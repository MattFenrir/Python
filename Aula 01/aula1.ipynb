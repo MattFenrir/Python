{
  "nbformat": 4,
  "nbformat_minor": 0,
  "metadata": {
    "colab": {
      "name": "aula1.ipynb",
      "provenance": [],
      "collapsed_sections": []
    },
    "kernelspec": {
      "name": "python3",
      "display_name": "Python 3"
    },
    "language_info": {
      "name": "python"
    }
  },
  "cells": [
    {
      "cell_type": "markdown",
      "source": [
        ""
      ],
      "metadata": {
        "id": "CkO_LSSEnyS2"
      }
    },
    {
      "cell_type": "code",
      "execution_count": null,
      "metadata": {
        "colab": {
          "base_uri": "https://localhost:8080/"
        },
        "id": "P5Z_1rGDidkW",
        "outputId": "6f54befe-b7b1-4878-9495-b54468bc5de9"
      },
      "outputs": [
        {
          "output_type": "stream",
          "name": "stdout",
          "text": [
            "Hello, world!\n"
          ]
        }
      ],
      "source": [
        "print(\"Hello, world!\")"
      ]
    },
    {
      "cell_type": "code",
      "source": [
        "print(\"Aprendendo Python!\")"
      ],
      "metadata": {
        "colab": {
          "base_uri": "https://localhost:8080/"
        },
        "id": "1IdeSVXRjqd7",
        "outputId": "5b1a4a97-1590-4786-f23b-75761461bb45"
      },
      "execution_count": null,
      "outputs": [
        {
          "output_type": "stream",
          "name": "stdout",
          "text": [
            "Aprendendo Python!\n"
          ]
        }
      ]
    },
    {
      "cell_type": "code",
      "source": [
        "# String, Int, Float, Boolean\n",
        "nota1 = 10\n",
        "_nota1 = 10.5\n",
        "A = 1\n",
        "a = 2\n",
        "ação = '10'\n",
        "jogar = True\n",
        "dançar = False\n",
        "\n",
        "print(dançar)"
      ],
      "metadata": {
        "colab": {
          "base_uri": "https://localhost:8080/"
        },
        "id": "8Ly3pRrbj6gY",
        "outputId": "9ba37ac9-f46a-46bc-f4b2-7517ab777245"
      },
      "execution_count": null,
      "outputs": [
        {
          "output_type": "stream",
          "name": "stdout",
          "text": [
            "False\n"
          ]
        }
      ]
    },
    {
      "cell_type": "code",
      "source": [
        "a = 1\n",
        "b = 2.5\n",
        "equa = (a + b) * 3 / (a + 2)\n",
        "print(equa)"
      ],
      "metadata": {
        "colab": {
          "base_uri": "https://localhost:8080/"
        },
        "id": "cVpWiJwRkjDJ",
        "outputId": "f6fb07dd-fda0-4556-9794-04cc8e4a7788"
      },
      "execution_count": null,
      "outputs": [
        {
          "output_type": "stream",
          "name": "stdout",
          "text": [
            "3.5\n"
          ]
        }
      ]
    },
    {
      "cell_type": "code",
      "source": [
        "type(equa)"
      ],
      "metadata": {
        "colab": {
          "base_uri": "https://localhost:8080/"
        },
        "id": "9b004rCwlWIp",
        "outputId": "de4b052d-aca6-416e-d5db-e4557f707249"
      },
      "execution_count": null,
      "outputs": [
        {
          "output_type": "execute_result",
          "data": {
            "text/plain": [
              "float"
            ]
          },
          "metadata": {},
          "execution_count": 9
        }
      ]
    },
    {
      "cell_type": "code",
      "source": [
        "type(a)"
      ],
      "metadata": {
        "colab": {
          "base_uri": "https://localhost:8080/"
        },
        "id": "SZvPhaSulqmw",
        "outputId": "e8ca1992-7cad-429a-9cdd-d582d46084f9"
      },
      "execution_count": null,
      "outputs": [
        {
          "output_type": "execute_result",
          "data": {
            "text/plain": [
              "int"
            ]
          },
          "metadata": {},
          "execution_count": 10
        }
      ]
    },
    {
      "cell_type": "code",
      "source": [
        "type(dançar)"
      ],
      "metadata": {
        "colab": {
          "base_uri": "https://localhost:8080/"
        },
        "id": "gTNkE_J4l0R4",
        "outputId": "8726c0ae-005d-4842-db55-9b50fc34b3fc"
      },
      "execution_count": null,
      "outputs": [
        {
          "output_type": "execute_result",
          "data": {
            "text/plain": [
              "bool"
            ]
          },
          "metadata": {},
          "execution_count": 11
        }
      ]
    },
    {
      "cell_type": "code",
      "source": [
        "type(ação)"
      ],
      "metadata": {
        "colab": {
          "base_uri": "https://localhost:8080/"
        },
        "id": "eOf3IMnil1Zw",
        "outputId": "20c0271b-d09c-4d5a-c2fd-72488bab9d75"
      },
      "execution_count": null,
      "outputs": [
        {
          "output_type": "execute_result",
          "data": {
            "text/plain": [
              "str"
            ]
          },
          "metadata": {},
          "execution_count": 12
        }
      ]
    },
    {
      "cell_type": "code",
      "source": [
        "txt = input('Digite um numero => ')\n",
        "type(txt)"
      ],
      "metadata": {
        "colab": {
          "base_uri": "https://localhost:8080/"
        },
        "id": "7y3pRwv2l5vf",
        "outputId": "924f7204-bd8a-4b09-fde0-4b9fe9ca6e86"
      },
      "execution_count": null,
      "outputs": [
        {
          "name": "stdout",
          "output_type": "stream",
          "text": [
            "Digite um numero => 15\n"
          ]
        },
        {
          "output_type": "execute_result",
          "data": {
            "text/plain": [
              "str"
            ]
          },
          "metadata": {},
          "execution_count": 16
        }
      ]
    },
    {
      "cell_type": "code",
      "source": [
        "# Converter valores\n",
        "x = int(txt)\n",
        "print(type(x))\n",
        "x = float(txt)\n",
        "print(type(x))\n",
        "x= str(txt)\n",
        "print(type(x))"
      ],
      "metadata": {
        "colab": {
          "base_uri": "https://localhost:8080/"
        },
        "id": "xTcs_QJrmDHX",
        "outputId": "5f1da8bf-24ff-430d-df9e-d7e2a2b204bc"
      },
      "execution_count": null,
      "outputs": [
        {
          "output_type": "stream",
          "name": "stdout",
          "text": [
            "<class 'int'>\n",
            "<class 'float'>\n",
            "<class 'str'>\n"
          ]
        }
      ]
    },
    {
      "cell_type": "code",
      "source": [
        "#COMENTARIO\n",
        "\n",
        "'''\n",
        "  COMENTAR EM\n",
        "  VARIAS LINHAS\n",
        "'''"
      ],
      "metadata": {
        "id": "hTbcDARVmoFI"
      },
      "execution_count": null,
      "outputs": []
    },
    {
      "cell_type": "markdown",
      "source": [
        "# Matemática Simples"
      ],
      "metadata": {
        "id": "nAtKRx79n2fH"
      }
    },
    {
      "cell_type": "code",
      "source": [
        "# Exibir a área do quadrado com lado de 5 cm\n",
        "'''\n",
        "  quadrado = l x l // l²\n",
        "'''\n",
        "l = 5 # criamos uma variável\n",
        "quadrado = l ** 2 # quadrado = l * l\n",
        "perimetroquadrado = l * 4 # perimetroquadrado = l + l + l + l\n",
        "print(quadrado)\n",
        "print(perimetroquadrado)"
      ],
      "metadata": {
        "colab": {
          "base_uri": "https://localhost:8080/"
        },
        "id": "LWFGj01xn9X8",
        "outputId": "6d57ff87-0c80-4bcd-b19e-83d6ed4dd703"
      },
      "execution_count": null,
      "outputs": [
        {
          "output_type": "stream",
          "name": "stdout",
          "text": [
            "25\n",
            "20\n"
          ]
        }
      ]
    },
    {
      "cell_type": "code",
      "source": [
        "# O lado de um quadrado mede 8 cm. Caso o comprimento desse valor seja aumentado em 50% do seu valor,\n",
        "# em quantos por centos aumenta a área do novo quadrado em relação a área do quadrado inicial?\n",
        "''' Fórmula\n",
        "    a = l²\n",
        "'''\n",
        "l = 8\n",
        "area = l ** 2\n",
        "print('Primeira Área: ', area)\n",
        "\n",
        "##\n",
        "x = 8\n",
        "l = x * 1.5 # = 12\n",
        "areaNova = l ** 2\n",
        "print('Segunda Área: ', areaNova)\n",
        "\n",
        "## Diferença de tamanho entre o primeir e o segundo\n",
        "diferença = (areaNova / area -1) * 100\n",
        "print(\"Diferença é de\", diferença, \"%\")\n",
        "\n",
        "\n",
        "# 8 + (8 / 2)\n",
        "# x * 0.5 + (x)"
      ],
      "metadata": {
        "colab": {
          "base_uri": "https://localhost:8080/"
        },
        "id": "oedeUrFLpT5v",
        "outputId": "c15ee110-441a-4a97-b026-ea33454f34fd"
      },
      "execution_count": null,
      "outputs": [
        {
          "output_type": "stream",
          "name": "stdout",
          "text": [
            "Primeira Área:  64\n",
            "Segunda Área:  144.0\n",
            "Diferença é de 125.0 %\n"
          ]
        }
      ]
    },
    {
      "cell_type": "code",
      "source": [
        "# Qual é a medida da diagonal de um quadrado cujo lado mede 8 cm?\n",
        "''' Fórmula\n",
        "    d² = l² + l²\n",
        "    d² = 2l² = 128\n",
        "    d = V(2l) = √128\n",
        "    d = lV2 = ?\n",
        "'''\n",
        "l = 8\n",
        "diagonal = ((l ++ 2) + (l ** 2)) ** (0.5)\n",
        "print(diagonal)\n",
        "\n",
        "# ²√128 -> (1/2) 2/1 -> 1/2"
      ],
      "metadata": {
        "colab": {
          "base_uri": "https://localhost:8080/"
        },
        "id": "l3MBPjTgq9qe",
        "outputId": "a96b1ffc-8057-4fe8-c380-084e12ced5a2"
      },
      "execution_count": null,
      "outputs": [
        {
          "output_type": "stream",
          "name": "stdout",
          "text": [
            "11.313708498984761\n"
          ]
        }
      ]
    },
    {
      "cell_type": "code",
      "source": [
        "# Qual é o diametro de um círculo cujo o raio mede 10cm?\n",
        "''' Fórmula\n",
        "    d = 2r\n",
        "'''\n",
        "r = 10\n",
        "diametroCirculo = 2 * r\n",
        "print(diametroCirculo)"
      ],
      "metadata": {
        "colab": {
          "base_uri": "https://localhost:8080/"
        },
        "id": "zbJ_deFovgmC",
        "outputId": "2bcdf75e-c4f4-4d26-aeec-7d5918fe1549"
      },
      "execution_count": null,
      "outputs": [
        {
          "output_type": "stream",
          "name": "stdout",
          "text": [
            "20\n"
          ]
        }
      ]
    },
    {
      "cell_type": "code",
      "source": [
        "#Qual é o perímetro de um círculo cujo raio mede 5 cm?\n",
        "''' Fórmula\n",
        "    P = 2 π . r\n",
        "    π = 3.14\n",
        "'''\n",
        "r = 5\n",
        "pi = 3.14\n",
        "\n",
        "perimetroCirculo = 2 * pi * r\n",
        "print(perimetroCirculo)"
      ],
      "metadata": {
        "colab": {
          "base_uri": "https://localhost:8080/"
        },
        "id": "XzuxX8R3xJEr",
        "outputId": "c4c88f44-38d8-4be3-bc58-777530f6c567"
      },
      "execution_count": null,
      "outputs": [
        {
          "output_type": "stream",
          "name": "stdout",
          "text": [
            "31.400000000000002\n"
          ]
        }
      ]
    },
    {
      "cell_type": "code",
      "source": [
        "# AChe o comprimento da hipotenusa de lados 3 cm e 4 cm\n",
        "''' Fórmula\n",
        "    a2 + b2 = c² = V25 = 5\n",
        "'''\n",
        "a = 3\n",
        "b = 4\n",
        "c2 = a ** 2 + b ** 2\n",
        "hipotenusa = c2 ** 0.5\n",
        "print(hipotenusa)"
      ],
      "metadata": {
        "colab": {
          "base_uri": "https://localhost:8080/"
        },
        "id": "lb02km0wxdZK",
        "outputId": "7497de06-97b2-4644-f21f-317fdf36dc74"
      },
      "execution_count": null,
      "outputs": [
        {
          "output_type": "stream",
          "name": "stdout",
          "text": [
            "5.0\n"
          ]
        }
      ]
    },
    {
      "cell_type": "markdown",
      "source": [
        "# ESTRUTURA DE DECISÃO"
      ],
      "metadata": {
        "id": "aF9Xc946ycM9"
      }
    },
    {
      "cell_type": "code",
      "source": [
        "# Exibir se o número é maior ou menor que 10\n",
        "x = 50\n",
        "if(x > 10): # 50 é maior que 10? -> True\n",
        "  print('É maior que 10') # Executa se Verdadeiro\n",
        "else: # Se for falsa\n",
        "  print('É menor que 10') # Executa"
      ],
      "metadata": {
        "colab": {
          "base_uri": "https://localhost:8080/"
        },
        "id": "xaW8m5Ijxv0y",
        "outputId": "e1939576-9f41-4753-de6e-0df58334785c"
      },
      "execution_count": null,
      "outputs": [
        {
          "output_type": "stream",
          "name": "stdout",
          "text": [
            "É maior que 10\n"
          ]
        }
      ]
    },
    {
      "cell_type": "code",
      "source": [
        "# Exibir o maior número\n",
        "x = 50\n",
        "y = 25\n",
        "\n",
        "if(x > y):\n",
        "    #faça\n",
        "    print(x, ' é maior')\n",
        "else: # Senão\n",
        "    #faça\n",
        "    print(y, 'é maior')"
      ],
      "metadata": {
        "colab": {
          "base_uri": "https://localhost:8080/"
        },
        "id": "Ok2F17Zjy44T",
        "outputId": "3608f91f-fd95-4633-adb7-a2a8ecddc1e9"
      },
      "execution_count": null,
      "outputs": [
        {
          "output_type": "stream",
          "name": "stdout",
          "text": [
            "50  é maior\n"
          ]
        }
      ]
    },
    {
      "cell_type": "code",
      "source": [
        "# Exibir o maior número entre os 3\n",
        "a = 10\n",
        "b = 40\n",
        "c = -2\n",
        "# a > b && a > c\n",
        "if(a > b and a > c):\n",
        "  #faça\n",
        "  print(a)\n",
        "elif(b > a and b > c):\n",
        "  #faça\n",
        "  print(b)\n",
        "else:\n",
        "  print(c)"
      ],
      "metadata": {
        "colab": {
          "base_uri": "https://localhost:8080/"
        },
        "id": "6K-cepsc03EA",
        "outputId": "b6adf242-05aa-465d-c4a8-00ad7d31079d"
      },
      "execution_count": null,
      "outputs": [
        {
          "output_type": "stream",
          "name": "stdout",
          "text": [
            "40\n"
          ]
        }
      ]
    },
    {
      "cell_type": "code",
      "source": [
        "# Leia duas notas e exiba se o aluno está aprovado ou reprovado. Para ser aprovado precisa de média igual ou maior que 7\n",
        "\n",
        "nota1 = 8\n",
        "nota2 = 6\n",
        "\n",
        "media = (nota1 + nota2) / 2\n",
        "\n",
        "if(media >= 7):\n",
        "  #faça\n",
        "  print('Aprovado. Média: ', media)\n",
        "else:\n",
        "  #faça\n",
        "  print('Reprovado. Média: ', media)"
      ],
      "metadata": {
        "colab": {
          "base_uri": "https://localhost:8080/"
        },
        "id": "WLnyncHh1yfx",
        "outputId": "9ac599c6-0fdf-4b6e-d8a6-3c644784c091"
      },
      "execution_count": null,
      "outputs": [
        {
          "output_type": "stream",
          "name": "stdout",
          "text": [
            "Aprovado. Média:  7.0\n"
          ]
        }
      ]
    },
    {
      "cell_type": "code",
      "source": [
        "#Condições de existência de um triângulo\n",
        "'''\n",
        "    a + b > c\n",
        "    b + c > a\n",
        "    a + c > b\n",
        "'''\n",
        "a = 10\n",
        "b = 8\n",
        "c = 7\n",
        "\n",
        "if((a + b > c) and (b + c > a) and (a + c > b)):\n",
        "  #faça\n",
        "  print('É um triângulo')\n",
        "\n",
        "else:\n",
        "  print('Não é um triângulo')"
      ],
      "metadata": {
        "colab": {
          "base_uri": "https://localhost:8080/"
        },
        "id": "95vE9-mO2dKe",
        "outputId": "05484553-76d1-45a1-e272-4a1c52a12ea6"
      },
      "execution_count": null,
      "outputs": [
        {
          "output_type": "stream",
          "name": "stdout",
          "text": [
            "É um triângulo\n"
          ]
        }
      ]
    },
    {
      "cell_type": "code",
      "source": [
        "# Ler 3 notas e verificar se o aluno está Aprovado (>= 7), em Recuperação (> 4 e < 7) ou reprovado (<= 4)\n",
        "nota1 = 5\n",
        "nota2 = 8\n",
        "nota3 = 3\n",
        "\n",
        "media = (nota1 + nota2 + nota3) / 3\n",
        "\n",
        "if(media >= 7):\n",
        "  #faça\n",
        "  print('APROVADO. Média: ', media)\n",
        "elif(media > 4 and media < 7):\n",
        "  #faça\n",
        "  print('RECUPERAÇÃO. Média: ', media)\n",
        "else:\n",
        "  print('REPROVADO. Média: ', media)"
      ],
      "metadata": {
        "colab": {
          "base_uri": "https://localhost:8080/"
        },
        "id": "MB-jbU9D3yme",
        "outputId": "4e1389e7-ec5d-4f35-cfdd-86786ce6a37f"
      },
      "execution_count": null,
      "outputs": [
        {
          "output_type": "stream",
          "name": "stdout",
          "text": [
            "RECUPERAÇÃO. Média:  5.333333333333333\n"
          ]
        }
      ]
    },
    {
      "cell_type": "code",
      "source": [
        "# Calcule e exiba as métricas do IMC de uma pessoa\n",
        "''' Fórmula\n",
        "    Abaixo do peso inferior a 18,5\n",
        "    Peso normal 18,5 a 24,9\n",
        "    Excesso de peso 25,0 a 29,9\n",
        "    Obeso 30 ou mais\n",
        "\n",
        "    imc = peso / altura²\n",
        "'''\n",
        "peso = 55\n",
        "altura = 165 / 100 # Converter de cm para metros\n",
        "\n",
        "imc = round((peso / altura ** 2), 2) # round(valor, 2) -> arredondar em 2 números\n",
        "\n",
        "if(imc < 18.5): #faça\n",
        "  print('Abaixo do Peso. IMC: ', imc)\n",
        "elif(imc < 25): # ou 24.9 > imc > 18.5\n",
        "  print('Peso normal. IMC: ', imc)\n",
        "elif(imc < 30):\n",
        "  print('Excesso de peso. IMC: ', imc)\n",
        "else: #Senão\n",
        "  print('Obeso. IMC: ', imc)"
      ],
      "metadata": {
        "colab": {
          "base_uri": "https://localhost:8080/"
        },
        "id": "rVdwlsFg4mU_",
        "outputId": "b961e0c7-ea40-4e26-ff42-8e8b081ce9e4"
      },
      "execution_count": null,
      "outputs": [
        {
          "output_type": "stream",
          "name": "stdout",
          "text": [
            "20.2\n"
          ]
        }
      ]
    },
    {
      "cell_type": "code",
      "source": [
        "# Leia os lados de um triângulo e diga o nome do triângulo\n",
        "'''\n",
        "  Triângulo equilátero == 3 lados\n",
        "  Triângulo isósceles == 2 lados\n",
        "  Triângulo escaleno != lados\n",
        "'''\n",
        "a = float(input('Primeiro lado: '))\n",
        "b = float(input('Segundo  lado: '))\n",
        "c = float(input('Terceiro lado: '))\n",
        "    \n",
        "\n",
        "if (a + b < c) or (a + c < b) or (b + c < a):\n",
        "      print('Nao é um triangulo')\n",
        "elif (a == b) and (a == c) :\n",
        "      print('Equilatero')\n",
        "elif (a == b) or (a == c) or (b == c):\n",
        "      print('Isósceles')\n",
        "else:\n",
        "      print('Escaleno')"
      ],
      "metadata": {
        "id": "-HWWbgix6S9e",
        "colab": {
          "base_uri": "https://localhost:8080/"
        },
        "outputId": "53a7354e-22c0-4e26-dacf-5cd4d15643d2"
      },
      "execution_count": null,
      "outputs": [
        {
          "output_type": "stream",
          "name": "stdout",
          "text": [
            "Primeiro lado: 1\n",
            "Segundo  lado: 2\n",
            "Terceiro lado: 3\n",
            "Escaleno\n"
          ]
        }
      ]
    },
    {
      "cell_type": "code",
      "source": [
        ""
      ],
      "metadata": {
        "id": "wzKd1ymS6nWS"
      },
      "execution_count": null,
      "outputs": []
    }
  ]
}