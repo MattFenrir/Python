{
 "cells": [
  {
   "cell_type": "markdown",
   "metadata": {},
   "source": [
    "# Python\n",
    "\n",
    "## Revisão"
   ]
  },
  {
   "cell_type": "code",
   "execution_count": 1,
   "metadata": {},
   "outputs": [
    {
     "name": "stdout",
     "output_type": "stream",
     "text": [
      "Você está fora do orçamento. Cuidado!\n"
     ]
    }
   ],
   "source": [
    "''' \n",
    "    Faça um programa que o usuário informe o salário recebido e o total gasto.\n",
    "    Deverá ser exibido na tela “Gastos dentro do orçamento” caso o valor gasto não\n",
    "    ultrapasse o valor do salário e “Orçamento estourado” se o valor gasto\n",
    "    ultrapassar o valor do salário.\n",
    "'''\n",
    "\n",
    "# PRA ONDE VOU -> FUNÇÃO DO MEU PROGRAMA (ENUNCIADO)\n",
    "# COMO VOU -> COMO EU FAÇO PARA CHEGAR LÁ\n",
    "\n",
    "'''                 O QUE EU TENHO QUE FAZER?\n",
    "    que mostrar pro usuário se ele estourou ou não o orçamento\n",
    "'''\n",
    "\n",
    "'''\n",
    "                        COMO VOU FAZER?\n",
    "    primeiro eu tenho que receber os valores\n",
    "'''\n",
    "\n",
    "def respondeUsuario(msg):\n",
    "    print(msg)\n",
    "\n",
    "def receberDadosUsuario(msg):\n",
    "    return float(input(msg))\n",
    "\n",
    "def verificaGasto(sal, gasto):\n",
    "    if(gasto <= sal):\n",
    "        respondeUsuario('Você está dentro do orçamento')\n",
    "    else:\n",
    "        respondeUsuario('Você está fora do orçamento. Cuidado!')\n",
    "\n",
    "salario = receberDadosUsuario('Digite o seu salário: ')\n",
    "gasto = receberDadosUsuario('Digite o total do seu gasto mensal: ')\n",
    "\n",
    "verificaGasto(salario, gasto)"
   ]
  },
  {
   "cell_type": "code",
   "execution_count": 9,
   "metadata": {},
   "outputs": [
    {
     "name": "stdout",
     "output_type": "stream",
     "text": [
      "A média ponderada é: 22\n"
     ]
    }
   ],
   "source": [
    "''' \n",
    "    Escrever um programa em Python que lê um valor i, inteiro e positivo e 3 valores a, b e c. Se o valor de i é par então calcular e imprimir na tela a média aritmética de a, b e c. Caso contrário, se i>10 então calcular e imprimir na tela a média ponderada de a, b e c. Os pesos dos valores são respectivamente 2, 3 e 4.\n",
    "'''\n",
    "\n",
    "'''\n",
    "    PRA ONDE VOU?\n",
    "    imprimir a média de a + b + c\n",
    "    se i for par media arit\n",
    "    se for i > 10 e impar média pond\n",
    "'''\n",
    "\n",
    "'''\n",
    "    COMO VOU?\n",
    "'''\n",
    "\n",
    "def receberDados(msg):\n",
    "    return input(msg)\n",
    "\n",
    "def verificaInteiro(valor):\n",
    "    if(valor.isnumeric()):\n",
    "        if(int(valor) > 0):\n",
    "            return True\n",
    "        else:\n",
    "            return False\n",
    "    else:\n",
    "        return False\n",
    "\n",
    "def converteInInt(valor):\n",
    "    return int(valor)\n",
    "\n",
    "while(True):\n",
    "    i = receberDados('Digite um número inteiro: ')\n",
    "    if(verificaInteiro(i)):\n",
    "        i = converteInInt(i)\n",
    "        break\n",
    "    else:\n",
    "        print('Não é um número inteiro e positivo')\n",
    "\n",
    "a = converteInInt(receberDados('Digite o valor de a: '))\n",
    "b = converteInInt(receberDados('Digite o valor de b: '))\n",
    "c = converteInInt(receberDados('Digite o valor de c: '))\n",
    "\n",
    "if(i % 2 == 0):\n",
    "    media = (a + b + c) / 3\n",
    "    print(f'A média aritmética é: {media}')\n",
    "elif(i > 10):\n",
    "    media = ((a * 2) + (b * 3) + (c * 4)) / 9\n",
    "    print(f'A média ponderada é: {round(media)}')\n",
    "else:\n",
    "    print('Tchau')\n"
   ]
  },
  {
   "cell_type": "code",
   "execution_count": 18,
   "metadata": {},
   "outputs": [
    {
     "name": "stdout",
     "output_type": "stream",
     "text": [
      "Fahrenheit to Celsius\n",
      "104.0 F são 40.0 Cº\n"
     ]
    }
   ],
   "source": [
    "'''\n",
    "    Faça um programa onde o usuário irá escolher se quer converter graus Celsius para Fahrenheit ou Fahrenheit para Celsius.\n",
    "'''\n",
    "\n",
    "''' \n",
    "    PRA ONDE VOU?\n",
    "    CONVERTER TEMPERATURAS\n",
    "'''\n",
    "''' \n",
    "    COMO VOU FAZER?\n",
    "    Primeiro usuário e depois receber a temperatura e converter\n",
    "'''\n",
    "\n",
    "menu = int(input(' 1 - Celcius para Fahrenheit \\n 2 - Fahrenheit para Celsius \\n 3 - Sair \\n R: '))\n",
    "if(menu ==1):\n",
    "    print('Celsius to Fahrenheit')\n",
    "    celsius = float(input('Digite a temperatura em Celsius: '))\n",
    "    formula = (celsius * (9/5) + 32) # (0 ºC x 9/5) + 32 = 32 ºF\n",
    "    print(f'{celsius} Cº são {formula} F')\n",
    "elif(menu ==2):\n",
    "    print('Fahrenheit to Celsius')\n",
    "    fahrenheit = float(input('Digite a temperatura em Fahrenheit: '))\n",
    "    formula = (fahrenheit - 32) * (5/9) # (XºF - 32) x 5/9 = 0 ºC\n",
    "    print(f'{fahrenheit} F são {formula} Cº')\n",
    "else:\n",
    "    print('Tchau')"
   ]
  },
  {
   "cell_type": "code",
   "execution_count": 22,
   "metadata": {},
   "outputs": [
    {
     "name": "stdout",
     "output_type": "stream",
     "text": [
      "2\n",
      "4\n",
      "6\n",
      "8\n",
      "10\n",
      "12\n",
      "14\n",
      "16\n",
      "18\n",
      "20\n",
      "22\n",
      "24\n",
      "26\n",
      "28\n",
      "30\n",
      "32\n",
      "34\n",
      "36\n",
      "38\n",
      "40\n",
      "42\n",
      "44\n",
      "46\n",
      "48\n",
      "50\n",
      "52\n",
      "54\n",
      "56\n",
      "58\n",
      "60\n",
      "62\n",
      "64\n",
      "66\n",
      "68\n",
      "70\n",
      "72\n",
      "74\n",
      "76\n",
      "78\n",
      "80\n",
      "82\n",
      "84\n",
      "86\n",
      "88\n",
      "90\n",
      "92\n",
      "94\n",
      "96\n",
      "98\n",
      "100\n"
     ]
    }
   ],
   "source": [
    "# Fazer um programa para encontrar todos os números pares entre 1 e 100.\n",
    "\n",
    "'''\n",
    "    for i in range(1, 101):\n",
    "    if(i % 2 == 0):\n",
    "        print(i)\n",
    "'''\n",
    "\n",
    "'''\n",
    "    numeros = 1\n",
    "while(numeros <= 101):\n",
    "    if(numeros % 2 == 0):\n",
    "        print(numeros)\n",
    "    numeros += 1\n",
    "'''\n",
    "'''\n",
    "numero = []\n",
    "for i in range(1, 101):\n",
    "    if(i % 2 == 0):\n",
    "        numero.append(1)\n",
    "print(numero)\n",
    "'''\n",
    "\n",
    "numerosPares = ' '\n",
    "for i in range(1, 100):\n",
    "    if(i % 2 == 0):\n",
    "        numerosPares += f'{i}'\n",
    "print(numerosPares)"
   ]
  }
 ],
 "metadata": {
  "kernelspec": {
   "display_name": "Python 3.10.5 64-bit",
   "language": "python",
   "name": "python3"
  },
  "language_info": {
   "codemirror_mode": {
    "name": "ipython",
    "version": 3
   },
   "file_extension": ".py",
   "mimetype": "text/x-python",
   "name": "python",
   "nbconvert_exporter": "python",
   "pygments_lexer": "ipython3",
   "version": "3.10.5"
  },
  "orig_nbformat": 4,
  "vscode": {
   "interpreter": {
    "hash": "62235d2a6b91292b3cbd049ce7a790b9656dd211fbfc8e00863c4e18f9242a69"
   }
  }
 },
 "nbformat": 4,
 "nbformat_minor": 2
}
