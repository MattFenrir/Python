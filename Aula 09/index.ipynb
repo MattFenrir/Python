{
 "cells": [
  {
   "cell_type": "code",
   "execution_count": null,
   "metadata": {},
   "outputs": [],
   "source": [
    "print('Hello, World!')"
   ]
  }
 ],
 "metadata": {
  "kernelspec": {
   "display_name": "Python 3.10.5 64-bit",
   "language": "python",
   "name": "python3"
  },
  "language_info": {
   "name": "python",
   "version": "3.10.5"
  },
  "orig_nbformat": 4,
  "vscode": {
   "interpreter": {
    "hash": "62235d2a6b91292b3cbd049ce7a790b9656dd211fbfc8e00863c4e18f9242a69"
   }
  }
 },
 "nbformat": 4,
 "nbformat_minor": 2
}
