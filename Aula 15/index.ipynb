{
 "cells": [
  {
   "cell_type": "markdown",
   "metadata": {},
   "source": [
    "# LISTAS"
   ]
  },
  {
   "cell_type": "code",
   "execution_count": 13,
   "metadata": {},
   "outputs": [
    {
     "name": "stdout",
     "output_type": "stream",
     "text": [
      "Listar por linhas\n",
      "['Gustavo', 'Marcos', 'Pedro']\n",
      "--------------------\n",
      "['João', 'Paulo', 'Rafael']\n",
      "--------------------\n",
      "['Akio', 'Kenji', 'Emerson']\n",
      "--------------------\n",
      "Listar por dados\n",
      "Pedro\n",
      "--------------------\n",
      "Rafael\n",
      "--------------------\n",
      "Emerson\n",
      "--------------------\n",
      "Kenji\n"
     ]
    }
   ],
   "source": [
    "testes = []\n",
    "teste = list() # teste = [] || teste = [1, 2, 3]  || = or\n",
    "\n",
    "teste.append('Gustavo')\n",
    "teste.append('Jorge')\n",
    "teste.append('Pedro')\n",
    "\n",
    "teste[1] = \"Marcos\"\n",
    "\n",
    "testes.append(teste[:])\n",
    "teste.clear()\n",
    "\n",
    "teste.append('João')\n",
    "teste.append('Paulo')\n",
    "teste.append('Rafael')\n",
    "testes.append(teste[:])\n",
    "teste.clear()\n",
    "\n",
    "teste.append('Akio')\n",
    "teste.append('Kenji')\n",
    "teste.append('Emerson')\n",
    "testes.append(teste[:])\n",
    "teste.clear()\n",
    "\n",
    "print('Listar por linhas')\n",
    "for i in testes:\n",
    "    print(i)\n",
    "    print('-' * 20)\n",
    "\n",
    "print('Listar por dados')\n",
    "for i in testes:\n",
    "    print(i[2])\n",
    "    print('-' * 20)\n",
    "'''\n",
    "[\n",
    "            0          1        2\n",
    "    0: ['Gustavo', 'Marcos', 'Pedro']\n",
    "    1: ['João', 'Paulo', 'Rafael']\n",
    "    2: ['Akio', 'Kenji', 'Emerson']\n",
    "\n",
    "]'''\n",
    "\n",
    "print(testes[2][1]) # [2] = linha  [1] = coluna"
   ]
  },
  {
   "cell_type": "code",
   "execution_count": 14,
   "metadata": {},
   "outputs": [
    {
     "name": "stdout",
     "output_type": "stream",
     "text": [
      "[[1, 'Gabriel'], [2, 'Sayumi']]\n",
      "Gabriel\n"
     ]
    }
   ],
   "source": [
    "alunos = []\n",
    "\n",
    "aluno = [1, 'Gabriel']\n",
    "alunos.append(aluno[:])\n",
    "aluno.clear()\n",
    "\n",
    "aluno = [2, 'Sayumi']\n",
    "alunos.append(aluno[:])\n",
    "aluno.clear()\n",
    "\n",
    "print(alunos)\n",
    "'''\n",
    "    0 [1, Gabriel]\n",
    "    1 [2, Sayumi]\n",
    "'''\n",
    "\n",
    "print(alunos[0][1])"
   ]
  },
  {
   "cell_type": "code",
   "execution_count": 21,
   "metadata": {},
   "outputs": [
    {
     "name": "stdout",
     "output_type": "stream",
     "text": [
      "----------------\n",
      "Site de Receitas\n",
      "----------------\n",
      "Cadastrar\n",
      "Receita cadastrada com sucesso\n",
      "-----------------\n",
      "Lista de Receitas\n",
      "-----------------\n",
      "Cod: 1..... Nome: Teste com macarrão\n",
      "------------------------------\n",
      "------------------\n",
      "Teste com macarrão\n",
      "------------------\n",
      "Receita: \n",
      "Jogue água e vá ao padeiro\n"
     ]
    }
   ],
   "source": [
    "'''\n",
    "Um programa de Receitas que tenha o código, o nome e a receita\n",
    "O programa deve\n",
    "    1 - Cadastrar\n",
    "    2 - Listar todos\n",
    "    3 - Ler um item\n",
    "    4 - Alterar uma receita\n",
    "    CRUD -> CREATE, READ, UPDATE e DELETE\n",
    "'''\n",
    "\n",
    "todasReceitas = []\n",
    "receita = []\n",
    "\n",
    "def texto(valor):\n",
    "    print('-' * len(valor))\n",
    "    print(valor)\n",
    "    print('-' * len(valor))\n",
    "\n",
    "def cadastrarReceita():\n",
    "    print('Cadastrar')\n",
    "    receita.append(int(input('Digite o código da Receita: ')))\n",
    "    receita.append(input('Digite o nome da Receita: '))\n",
    "    receita.append(input('Digite a Receita: '))\n",
    "    # receita [codigo, nome, receita]\n",
    "    todasReceitas.append(receita[:])\n",
    "    # receitas [[codigo, nome, receita], [codigo, nome, receita], ...]\n",
    "    receita.clear()\n",
    "    print('Receita cadastrada com sucesso')\n",
    "\n",
    "def listarReceitas():\n",
    "    texto('Lista de Receitas')\n",
    "    for i in todasReceitas:\n",
    "        print(f'Cod: {i[0]}..... Nome: {i[1]}')\n",
    "        print('-' * 30)\n",
    "\n",
    "def lerReceita():\n",
    "    cod = int(input('Digite o código da Receita que deseja ler: '))\n",
    "    for i in todasReceitas:\n",
    "        if i[0] == cod:\n",
    "            texto(i[1])\n",
    "            print('Receita: ')\n",
    "            print(i[2])\n",
    "            return\n",
    "    print('Receita não encontrada')\n",
    "\n",
    "texto('Site de Receitas')\n",
    "while(True):\n",
    "    menu = int(input(' 1 - Ler Receita \\n 2 - Listar Receitas \\n 3 - Cadastrar Receita \\n 4 - Alterar Receita \\n 5 - Sair \\n '))\n",
    "    if(menu == 1):\n",
    "        lerReceita()\n",
    "    elif(menu == 2):\n",
    "        listarReceitas()\n",
    "    elif(menu == 3):\n",
    "        cadastrarReceita()\n",
    "    elif(menu == 4):\n",
    "        pass # Dever de casa -> Tentar alterar uma receita selecionada pelo  usuário, alterar NOME e RECEITA\n",
    "    elif(menu > 4):\n",
    "        break"
   ]
  },
  {
   "cell_type": "code",
   "execution_count": null,
   "metadata": {},
   "outputs": [],
   "source": []
  }
 ],
 "metadata": {
  "kernelspec": {
   "display_name": "Python 3.10.5 64-bit",
   "language": "python",
   "name": "python3"
  },
  "language_info": {
   "codemirror_mode": {
    "name": "ipython",
    "version": 3
   },
   "file_extension": ".py",
   "mimetype": "text/x-python",
   "name": "python",
   "nbconvert_exporter": "python",
   "pygments_lexer": "ipython3",
   "version": "3.10.5"
  },
  "orig_nbformat": 4,
  "vscode": {
   "interpreter": {
    "hash": "62235d2a6b91292b3cbd049ce7a790b9656dd211fbfc8e00863c4e18f9242a69"
   }
  }
 },
 "nbformat": 4,
 "nbformat_minor": 2
}
