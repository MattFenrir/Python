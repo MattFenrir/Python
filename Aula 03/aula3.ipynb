{
  "nbformat": 4,
  "nbformat_minor": 0,
  "metadata": {
    "colab": {
      "name": "aula3.ipynb",
      "provenance": [],
      "collapsed_sections": []
    },
    "kernelspec": {
      "name": "python3",
      "display_name": "Python 3"
    },
    "language_info": {
      "name": "python"
    }
  },
  "cells": [
    {
      "cell_type": "markdown",
      "source": [
        "# Laço de Repetição -> Estrutura de Repetição -> Loop\n",
        "\n",
        "## FOR\n",
        "\n",
        "### for variavel in range(1, 10):"
      ],
      "metadata": {
        "id": "Fo99mWIQcwwW"
      }
    },
    {
      "cell_type": "code",
      "execution_count": 3,
      "metadata": {
        "colab": {
          "base_uri": "https://localhost:8080/"
        },
        "id": "LIBJKBVFcjxz",
        "outputId": "308a62cf-79cf-4081-da36-908951ed1561"
      },
      "outputs": [
        {
          "output_type": "stream",
          "name": "stdout",
          "text": [
            "0\n",
            "5\n",
            "10\n"
          ]
        }
      ],
      "source": [
        "# for cvariavel in range(1, 10): \n",
        "for i in range(0, 15,5): # i < 10\n",
        "  #Faça\n",
        "  print(i)"
      ]
    },
    {
      "cell_type": "code",
      "source": [
        "for c in range(10, 0, -1):\n",
        "  print(c)\n",
        "  #Bloco\n",
        "  #De\n",
        "  #Desenv"
      ],
      "metadata": {
        "colab": {
          "base_uri": "https://localhost:8080/"
        },
        "id": "YccY_ayvej_D",
        "outputId": "0fa3b876-2158-49a3-80f3-d770600e294e"
      },
      "execution_count": 5,
      "outputs": [
        {
          "output_type": "stream",
          "name": "stdout",
          "text": [
            "10\n",
            "9\n",
            "8\n",
            "7\n",
            "6\n",
            "5\n",
            "4\n",
            "3\n",
            "2\n",
            "1\n"
          ]
        }
      ]
    },
    {
      "cell_type": "code",
      "source": [
        "for contador in range(0, 10):\n",
        "  #Bloco de Execução\n",
        "    print(\"Bom dia\", contador)\n",
        "\n",
        "#Fora do Bloco de Execução do for\n",
        "print(\"Acabou o bom dia\")\n",
        "print('Volte ao trabalho')"
      ],
      "metadata": {
        "colab": {
          "base_uri": "https://localhost:8080/"
        },
        "id": "B6qJglpJf6JT",
        "outputId": "1642dfee-43f3-41e1-ad45-b5f03e68dcc7"
      },
      "execution_count": 10,
      "outputs": [
        {
          "output_type": "stream",
          "name": "stdout",
          "text": [
            "Bom dia 0\n",
            "Bom dia 1\n",
            "Bom dia 2\n",
            "Bom dia 3\n",
            "Bom dia 4\n",
            "Acabou o bom dia\n"
          ]
        }
      ]
    },
    {
      "cell_type": "code",
      "source": [
        "# Leia um número e exiba os números em ordem crescente até chegar ao número digitado\n",
        "num = int(input('Digite um número: '))\n",
        "\n",
        "for i in range(0, num):\n",
        "  print(i + 1)\n",
        "\n",
        "print('--------------')\n",
        "\n",
        "for i in range(1, num + 1):\n",
        "  print(i)"
      ],
      "metadata": {
        "colab": {
          "base_uri": "https://localhost:8080/"
        },
        "id": "Pb5dJu9ogd9B",
        "outputId": "f0fd9775-6058-4644-f298-56587a4a1947"
      },
      "execution_count": 13,
      "outputs": [
        {
          "output_type": "stream",
          "name": "stdout",
          "text": [
            "Digite um número: 5\n",
            "1\n",
            "2\n",
            "3\n",
            "4\n",
            "5\n",
            "--------------\n",
            "1\n",
            "2\n",
            "3\n",
            "4\n",
            "5\n"
          ]
        }
      ]
    },
    {
      "cell_type": "code",
      "source": [
        "# Leia o valor inicial e o valor final e exiba um contador entre o número inicial e o final\n",
        "inicial = int(input('Digite o valor inicial: '))\n",
        "final = int(input('Digite o valor final: '))\n",
        "\n",
        "if(final > inicial): # Se o valor final for maior que o inicial -> Faça\n",
        "  for i in range(inicial, final + 1):\n",
        "    print(i)\n",
        "else: # Se o valor final for menor que o final -> Faça\n",
        "  # print('Error: Digite valores válidos')\n",
        "  for i in range(final, inicial +1): # (inicial, final - 1, -1)\n",
        "    print(i)"
      ],
      "metadata": {
        "colab": {
          "base_uri": "https://localhost:8080/"
        },
        "id": "Na_Zfyo1hn2r",
        "outputId": "550725ae-f4fb-4761-a132-d64c40d1c535"
      },
      "execution_count": 19,
      "outputs": [
        {
          "output_type": "stream",
          "name": "stdout",
          "text": [
            "Digite o valor inicial: 5\n",
            "Digite o valor final: 15\n",
            "5\n",
            "6\n",
            "7\n",
            "8\n",
            "9\n",
            "10\n",
            "11\n",
            "12\n",
            "13\n",
            "14\n",
            "15\n"
          ]
        }
      ]
    },
    {
      "cell_type": "code",
      "source": [
        "# Receba um número e faça a tabuada com os 20 primeiros números (indices)\n",
        "num = int(input('Digite um número: '))\n",
        "\n",
        "for i in range(0, 21):\n",
        "# print(\"{1} x {2} = {3}\" .format(1, 2, 3))  \n",
        "  print(\"{} x {} = {}\" .format(num, i, i * num))"
      ],
      "metadata": {
        "colab": {
          "base_uri": "https://localhost:8080/"
        },
        "id": "EYEcGt_FjEkR",
        "outputId": "7b4e5653-fc19-4d9e-d72c-06dfe4ede5d6"
      },
      "execution_count": 24,
      "outputs": [
        {
          "output_type": "stream",
          "name": "stdout",
          "text": [
            "Digite um número: 2\n",
            "2 x 0 = 0\n",
            "2 x 1 = 2\n",
            "2 x 2 = 4\n",
            "2 x 3 = 6\n",
            "2 x 4 = 8\n",
            "2 x 5 = 10\n",
            "2 x 6 = 12\n",
            "2 x 7 = 14\n",
            "2 x 8 = 16\n",
            "2 x 9 = 18\n",
            "2 x 10 = 20\n",
            "2 x 11 = 22\n",
            "2 x 12 = 24\n",
            "2 x 13 = 26\n",
            "2 x 14 = 28\n",
            "2 x 15 = 30\n",
            "2 x 16 = 32\n",
            "2 x 17 = 34\n",
            "2 x 18 = 36\n",
            "2 x 19 = 38\n",
            "2 x 20 = 40\n"
          ]
        }
      ]
    },
    {
      "cell_type": "code",
      "source": [
        "# Leia 4 números e mostre o somatório (usando for)\n",
        "'''\n",
        "num1 = int(input('Digite um num: '))\n",
        "num2 = int(input('Digite um num: '))\n",
        "num3 = int(input('Digite um num: '))\n",
        "num4 = int(input('Digite um num: '))\n",
        "\n",
        "soma = num1 + num2 + num3 + num4\n",
        "\n",
        "print(soma)\n",
        "'''\n",
        "\n",
        "soma = 0\n",
        "for laco in range(4):\n",
        "  n = int(input('Digite um num: '))\n",
        "  soma = soma + n # soma += n\n",
        "print(soma)"
      ],
      "metadata": {
        "colab": {
          "base_uri": "https://localhost:8080/"
        },
        "id": "Al2Qs14Vl8cY",
        "outputId": "61b73bab-9988-4dcb-b3bd-46967e60af88"
      },
      "execution_count": 35,
      "outputs": [
        {
          "output_type": "stream",
          "name": "stdout",
          "text": [
            "Digite um num: 1\n",
            "Digite um num: 2\n",
            "Digite um num: 3\n",
            "Digite um num: 4\n",
            "10\n"
          ]
        }
      ]
    },
    {
      "cell_type": "code",
      "source": [
        "# Mostre todos os números pares entre 1 e 250\n",
        "for i in range(0, 251):\n",
        "  if(i % 2 == 0):\n",
        "    print(i)"
      ],
      "metadata": {
        "colab": {
          "base_uri": "https://localhost:8080/"
        },
        "id": "Bwi5y7qPodq_",
        "outputId": "f5507545-ec9d-49b0-86aa-22fd0b13aef3"
      },
      "execution_count": 40,
      "outputs": [
        {
          "output_type": "stream",
          "name": "stdout",
          "text": [
            "0\n",
            "2\n",
            "4\n",
            "6\n",
            "8\n",
            "10\n",
            "12\n",
            "14\n",
            "16\n",
            "18\n",
            "20\n",
            "22\n",
            "24\n",
            "26\n",
            "28\n",
            "30\n",
            "32\n",
            "34\n",
            "36\n",
            "38\n",
            "40\n",
            "42\n",
            "44\n",
            "46\n",
            "48\n",
            "50\n",
            "52\n",
            "54\n",
            "56\n",
            "58\n",
            "60\n",
            "62\n",
            "64\n",
            "66\n",
            "68\n",
            "70\n",
            "72\n",
            "74\n",
            "76\n",
            "78\n",
            "80\n",
            "82\n",
            "84\n",
            "86\n",
            "88\n",
            "90\n",
            "92\n",
            "94\n",
            "96\n",
            "98\n",
            "100\n",
            "102\n",
            "104\n",
            "106\n",
            "108\n",
            "110\n",
            "112\n",
            "114\n",
            "116\n",
            "118\n",
            "120\n",
            "122\n",
            "124\n",
            "126\n",
            "128\n",
            "130\n",
            "132\n",
            "134\n",
            "136\n",
            "138\n",
            "140\n",
            "142\n",
            "144\n",
            "146\n",
            "148\n",
            "150\n",
            "152\n",
            "154\n",
            "156\n",
            "158\n",
            "160\n",
            "162\n",
            "164\n",
            "166\n",
            "168\n",
            "170\n",
            "172\n",
            "174\n",
            "176\n",
            "178\n",
            "180\n",
            "182\n",
            "184\n",
            "186\n",
            "188\n",
            "190\n",
            "192\n",
            "194\n",
            "196\n",
            "198\n",
            "200\n",
            "202\n",
            "204\n",
            "206\n",
            "208\n",
            "210\n",
            "212\n",
            "214\n",
            "216\n",
            "218\n",
            "220\n",
            "222\n",
            "224\n",
            "226\n",
            "228\n",
            "230\n",
            "232\n",
            "234\n",
            "236\n",
            "238\n",
            "240\n",
            "242\n",
            "244\n",
            "246\n",
            "248\n",
            "250\n"
          ]
        }
      ]
    },
    {
      "cell_type": "code",
      "source": [
        "# Leia um valor e exiba a quantidade de números ímpares entre 1 e o número lido\n",
        "\n",
        "num = int(input('Digite um valor: '))\n",
        "if(num > 1):\n",
        "  for i in range(1, num + 1):\n",
        "    if(i % 2 != 0): # if(i % 2 == 1)  % -> Módulo != -> Diferença\n",
        "      print(i)\n",
        "else:\n",
        "  print('Digite um valor maior que 1')"
      ],
      "metadata": {
        "colab": {
          "base_uri": "https://localhost:8080/"
        },
        "id": "kIdiZmqCrCXP",
        "outputId": "60d91732-8d1b-4714-8f21-cdd3adde0ad4"
      },
      "execution_count": 49,
      "outputs": [
        {
          "output_type": "stream",
          "name": "stdout",
          "text": [
            "Digite um valor: 15\n",
            "1\n",
            "3\n",
            "5\n",
            "7\n",
            "9\n",
            "11\n",
            "13\n",
            "15\n"
          ]
        }
      ]
    },
    {
      "cell_type": "code",
      "source": [
        "# Leia um número e faça a soma dos números ímpares e que sejam múltiplos de 3 entre 1 e o número lido\n",
        "num = int(input('Digite um valor: '))\n",
        "soma = 0\n",
        "for i in range(1, num + 1):\n",
        "  if(i % 2 != 0 and i % 3 == 0):\n",
        "    #if(i % 3 == 0):\n",
        "    soma += i\n",
        "print(soma)"
      ],
      "metadata": {
        "colab": {
          "base_uri": "https://localhost:8080/"
        },
        "id": "Y6nuoUifs3mV",
        "outputId": "9e6480e3-2dee-4323-b549-24db3f11f55c"
      },
      "execution_count": 54,
      "outputs": [
        {
          "output_type": "stream",
          "name": "stdout",
          "text": [
            "Digite um valor: 15\n",
            "27\n"
          ]
        }
      ]
    },
    {
      "cell_type": "code",
      "source": [
        "# Leia 5 números e exiba a soma deles, o menor número e o maior número\n",
        "soma = 0\n",
        "maior = 0\n",
        "menor = 10000000\n",
        "\n",
        "for num in range(5):\n",
        "  n = int(input('Digite um número: '))\n",
        "  soma = soma + n\n",
        "  if(n > maior):\n",
        "    maior = n\n",
        "\n",
        "  if(n < menor):\n",
        "    #bloco de execução\n",
        "    menor = n\n",
        "\n",
        "print('A soma dos números foi {} \\nO maior número foi {} \\nO menor número foi {}' .format(soma, maior, menor))"
      ],
      "metadata": {
        "colab": {
          "base_uri": "https://localhost:8080/"
        },
        "id": "CwN1UIIFuxqF",
        "outputId": "120ccde5-8fb8-487e-dd26-4e7f44597d25"
      },
      "execution_count": 62,
      "outputs": [
        {
          "output_type": "stream",
          "name": "stdout",
          "text": [
            "Digite um número: 1\n",
            "Digite um número: 2\n",
            "Digite um número: 3\n",
            "Digite um número: 4\n",
            "Digite um número: 5\n",
            "A soma dos números foi 15 \n",
            "O maior número foi 5 \n",
            "O menor número foi 1\n"
          ]
        }
      ]
    },
    {
      "cell_type": "code",
      "source": [
        ""
      ],
      "metadata": {
        "id": "cMHOHFqVxOVD"
      },
      "execution_count": null,
      "outputs": []
    }
  ]
}