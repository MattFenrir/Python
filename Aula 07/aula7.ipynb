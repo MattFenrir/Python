{
  "cells": [
    {
      "cell_type": "markdown",
      "metadata": {
        "id": "EneKJhKupW1l"
      },
      "source": [
        "##Python\n",
        "\n",
        "#VETORES"
      ]
    },
    {
      "cell_type": "markdown",
      "metadata": {
        "id": "7NDHTHvbqlpO"
      },
      "source": [
        "## TUPLA\n",
        "### VARIAVEL COMPOSTA\n",
        "\n",
        "#### AS TUPLAS SÃO IMUTÁVEIS => NÃO PODEM SER ALTERADAS APÓS A DECLARAÇÃO \n",
        "\n",
        "##### DECLARAÇÃO \n",
        "##### nomeTupla = (valor, valor, valor, valor, valor)"
      ]
    },
    {
      "cell_type": "code",
      "execution_count": null,
      "metadata": {
        "colab": {
          "base_uri": "https://localhost:8080/"
        },
        "id": "6GSuM0pPpc5S",
        "outputId": "5618d39e-8407-48a5-bddf-8b410039f232"
      },
      "outputs": [
        {
          "name": "stdout",
          "output_type": "stream",
          "text": [
            "<class 'tuple'>\n",
            "<class 'str'>\n",
            "<class 'tuple'>\n",
            "<class 'tuple'>\n",
            "('C', 'Java', 'JavaScript', 'C++', 'C#', 'PHP', 'Python', 'Ruby', 'R')\n",
            "JavaScript\n",
            "PHP\n",
            "Ruby\n",
            "9\n",
            "R\n",
            "R\n"
          ]
        }
      ],
      "source": [
        "## Exemplo\n",
        "##             0     1          2          3     4      5       6        7      8\n",
        "linguagens = ('C', 'Java', 'JavaScript', 'C++', 'C#', 'PHP', 'Python', 'Ruby', 'R') #Criando uma TUPLA\n",
        "print(type(linguagens))\n",
        "\n",
        "linguas = ('C') # Variável\n",
        "print(type(linguas))\n",
        "\n",
        "ling = tuple('C') # Tupla\n",
        "print(type(ling))\n",
        "\n",
        "lin = ('C',) # Tupla\n",
        "print(type(lin))\n",
        "\n",
        "print(linguagens)\n",
        "print(linguagens[2])\n",
        "print(linguagens[5])\n",
        "print(linguagens[7])\n",
        "\n",
        "print(len(linguagens)) # O Tamanho da Tupla / Vetor\n",
        "\n",
        "print(linguagens[-1]) # Último valor\n",
        "print(linguagens[len(linguagens) -1]) # Último valor"
      ]
    },
    {
      "cell_type": "code",
      "execution_count": null,
      "metadata": {
        "colab": {
          "base_uri": "https://localhost:8080/"
        },
        "id": "qG9K_MbvrGTD",
        "outputId": "f662947d-1084-4201-bcf0-56b90b5eca21"
      },
      "outputs": [
        {
          "name": "stdout",
          "output_type": "stream",
          "text": [
            "('Java', 'JavaScript', 'C++', 'C#')\n",
            "('JavaScript', 'C++', 'C#', 'PHP', 'Python', 'Ruby', 'R')\n",
            "('C', 'Java', 'JavaScript', 'C++')\n",
            "Python\n",
            "('PHP', 'Python', 'Ruby', 'R')\n"
          ]
        }
      ],
      "source": [
        "# Fatiamento\n",
        "##             0     1          2          3     4      5       6        7      8\n",
        "##linguagens = ('C', 'Java', 'JavaScript', 'C++', 'C#', 'PHP', 'Python', 'Ruby', 'R') #Criando uma TUPLA\n",
        "print(linguagens[1:5]) # 1 ao 4\n",
        "print(linguagens[2:]) # 2 ao último\n",
        "print(linguagens[:4]) # 4 primeiros\n",
        "print(linguagens[-3]) # 3º de trás pra frente\n",
        "print(linguagens[-4:]) # 4 últimos"
      ]
    },
    {
      "cell_type": "code",
      "execution_count": null,
      "metadata": {
        "colab": {
          "base_uri": "https://localhost:8080/",
          "height": 200
        },
        "id": "280z29sGtDZk",
        "outputId": "9761c464-dfb5-4ada-de74-dba7bf27d8c2"
      },
      "outputs": [
        {
          "ename": "TypeError",
          "evalue": "ignored",
          "output_type": "error",
          "traceback": [
            "\u001b[0;31m---------------------------------------------------------------------------\u001b[0m",
            "\u001b[0;31mTypeError\u001b[0m                                 Traceback (most recent call last)",
            "\u001b[0;32m<ipython-input-17-f13638dd2a26>\u001b[0m in \u001b[0;36m<module>\u001b[0;34m()\u001b[0m\n\u001b[1;32m      1\u001b[0m \u001b[0;31m# Alterando a tupla\u001b[0m\u001b[0;34m\u001b[0m\u001b[0;34m\u001b[0m\u001b[0;34m\u001b[0m\u001b[0m\n\u001b[0;32m----> 2\u001b[0;31m \u001b[0mlinguagens\u001b[0m\u001b[0;34m[\u001b[0m\u001b[0;36m4\u001b[0m\u001b[0;34m]\u001b[0m \u001b[0;34m=\u001b[0m \u001b[0;34m'Go'\u001b[0m\u001b[0;34m\u001b[0m\u001b[0;34m\u001b[0m\u001b[0m\n\u001b[0m\u001b[1;32m      3\u001b[0m \u001b[0mprint\u001b[0m\u001b[0;34m(\u001b[0m\u001b[0mlinguagens\u001b[0m\u001b[0;34m)\u001b[0m\u001b[0;34m\u001b[0m\u001b[0;34m\u001b[0m\u001b[0m\n",
            "\u001b[0;31mTypeError\u001b[0m: 'tuple' object does not support item assignment"
          ]
        }
      ],
      "source": [
        "# Alterando a tupla\n",
        "linguagens[4] = 'Go' # Tuplas são imutáveis, não podem ser alteradas após a criação -> São valores 'constantes'\n",
        "print(linguagens)"
      ]
    },
    {
      "cell_type": "code",
      "execution_count": null,
      "metadata": {
        "colab": {
          "base_uri": "https://localhost:8080/"
        },
        "id": "UGUAioYzt-WD",
        "outputId": "b29e393f-1e89-4c66-bdb8-c06988bb01a6"
      },
      "outputs": [
        {
          "name": "stdout",
          "output_type": "stream",
          "text": [
            "('C', 'Java', 'JavaScript', 'C++', 'C#', 'PHP', 'Python', 'Ruby', 'R')\n",
            "['C', 'C#', 'C++', 'Java', 'JavaScript', 'PHP', 'Python', 'R', 'Ruby']\n",
            "('C', 'Java', 'JavaScript', 'C++', 'C#', 'PHP', 'Python', 'Ruby', 'R')\n",
            "(10, 20, 15, -5)\n",
            "[-5, 10, 15, 20]\n",
            "(10, 20, 15, -5)\n",
            "1\n",
            "3\n",
            "20\n",
            "-5\n",
            "40\n",
            "4\n"
          ]
        }
      ],
      "source": [
        "# FUNÇÕES NATIVAS DAS TUPLAS\n",
        "\n",
        "num = (10, 20, 15, -5)\n",
        "\n",
        "# ORDENAR\n",
        "print(linguagens)\n",
        "print(sorted(linguagens)) # sorted(tupla) -> Não altera a tupla\n",
        "print(linguagens)\n",
        "\n",
        "print(num)\n",
        "print(sorted(num))\n",
        "print(num)\n",
        "\n",
        "# Buscar pelo valor\n",
        "print(linguagens.index('Java')) # Buscar índice do valor\n",
        "print(num.index(-5)) # Buscar índice do valor\n",
        "\n",
        "# Máximo\n",
        "print(max(num)) # Valor máximo\n",
        "\n",
        "# Mínimo\n",
        "print(min(num)) # Valor mínimo\n",
        "\n",
        "# Soma\n",
        "print(sum(num)) # Soma\n",
        "\n",
        "# Tamanho\n",
        "print(len(num)) # Tamanho da tupla\n",
        "\n",
        "# Deletar\n",
        "del(num) # Deletar a tupla\n",
        "print(num) # Vai dar erro, porque foi excluída"
      ]
    },
    {
      "cell_type": "markdown",
      "metadata": {
        "id": "KJKDqIw1wgM3"
      },
      "source": [
        "#LISTA\n",
        "###VARIÁVEL COMPOSTA\n",
        "####DECLARAÇÃO\n",
        "nomeTupla = [valor,valor,valor,valor,valor]"
      ]
    },
    {
      "cell_type": "code",
      "execution_count": null,
      "metadata": {
        "colab": {
          "base_uri": "https://localhost:8080/"
        },
        "id": "7M4QJ0Efukgs",
        "outputId": "926fa3e4-2f8f-4fe4-9949-0a5666db8cb1"
      },
      "outputs": [
        {
          "name": "stdout",
          "output_type": "stream",
          "text": [
            "<class 'list'>\n",
            "['Blusa', 'Calça', 'Meia', 'Casaco']\n",
            "4\n",
            "<class 'list'>\n",
            "[10, 15, 20, 25, 30]\n",
            "5\n",
            "<class 'list'>\n",
            "[]\n",
            "0\n"
          ]
        }
      ],
      "source": [
        "# Criando Listas\n",
        "roupas = ['Blusa', 'Calça', 'Meia', 'Casaco'] # Criando lista\n",
        "print(type(roupas)) # Tipo\n",
        "print(roupas) # Exibindo todos os valores da lista\n",
        "print(len(roupas)) # Tamanho da lista\n",
        "\n",
        "numeros = list(range(10, 31, 5))\n",
        "print(type(numeros))\n",
        "print(numeros)\n",
        "print(len(numeros))\n",
        "\n",
        "teste = []\n",
        "print(type(teste))\n",
        "print(teste)\n",
        "print(len(teste))"
      ]
    },
    {
      "cell_type": "code",
      "execution_count": null,
      "metadata": {
        "colab": {
          "base_uri": "https://localhost:8080/"
        },
        "id": "meOrR4i3wykL",
        "outputId": "f8312093-66b6-4f2f-813b-ac1b5c4ba329"
      },
      "outputs": [
        {
          "name": "stdout",
          "output_type": "stream",
          "text": [
            "['Palio', 'Gol', 'Celta', 'Corsa']\n",
            "4\n",
            "['Palio', 'Gol', 'Celta', 'Corsa', 'Fusca']\n",
            "5\n",
            "['Palio', 'Gol', 'Fox', 'Celta', 'Corsa', 'Fusca']\n",
            "6\n",
            "['Palio', 'Gol', 'Celta', 'Corsa', 'Fusca']\n",
            "5\n",
            "['Palio', 'Gol', 'Celta', 'Fusca']\n",
            "4\n",
            "['Palio', 'Gol', 'Celta']\n",
            "3\n",
            "['Palio', 'Gol']\n",
            "2\n",
            "['Celta', 'Gol']\n",
            "2\n",
            "['Celta', 'Palio']\n",
            "2\n"
          ]
        }
      ],
      "source": [
        "# Declarando\n",
        "carros = ['Palio', 'Gol', 'Celta', 'Corsa']\n",
        "print(carros)\n",
        "print(len(carros))\n",
        "\n",
        "# Adicionar um novo item\n",
        "carros.append('Fusca') # Aidicona ao final da lista -> Último item\n",
        "# carros.append(input('Digite um carro: ')) Adicionando valor digitado pelo usuário\n",
        "print(carros)\n",
        "print(len(carros))\n",
        "\n",
        "# Inserir em um índice específico\n",
        "carros.insert(2, 'Fox')\n",
        "# carros.insert(2, input('Digite um carro: ')) # carros.insert(2, variavel)\n",
        "print(carros)\n",
        "print(len(carros))\n",
        "\n",
        "# Remover pelo índice\n",
        "del carros[2]\n",
        "print(carros)\n",
        "print(len(carros))\n",
        "\n",
        "carros.pop(3) # Removendo o 3º item\n",
        "print(carros)\n",
        "print(len(carros))\n",
        "\n",
        "carros.pop() # Removendo o último item\n",
        "print(carros)\n",
        "print(len(carros))\n",
        "\n",
        "# Remover pelo valor\n",
        "carros.remove('Celta')\n",
        "print(carros)\n",
        "print(len(carros))\n",
        "\n",
        "# Alterar Valor\n",
        "carros[0] = 'Celta'\n",
        "print(carros)\n",
        "print(len(carros))\n",
        "\n",
        "carros[1] = 'Palio'\n",
        "print(carros)\n",
        "print(len(carros))\n",
        "\n",
        "# Deletar Lista\n",
        "del carros\n",
        "print(carros)"
      ]
    },
    {
      "cell_type": "code",
      "execution_count": null,
      "metadata": {
        "colab": {
          "base_uri": "https://localhost:8080/"
        },
        "id": "mzR3mxD5xtCU",
        "outputId": "dd94ecc0-7051-4ab4-fb2f-c77c7babaa1d"
      },
      "outputs": [
        {
          "name": "stdout",
          "output_type": "stream",
          "text": [
            "['Palio', 'Gol', 'Celta', 'Corsa']\n",
            "4\n"
          ]
        }
      ],
      "source": [
        "# Cópia de tabela\n",
        "carros = ['Palio', 'Gol', 'Celta', 'Corsa']\n",
        "# moto = ['Moto1', 'Moto2', 'Moto3']\n",
        "\n",
        "outrosCarros = carros[:]\n",
        "# outrosCarros.append(moto[0:2])\n",
        "print(outrosCarros)\n",
        "print(len(outrosCarros))"
      ]
    },
    {
      "cell_type": "code",
      "execution_count": null,
      "metadata": {
        "colab": {
          "base_uri": "https://localhost:8080/"
        },
        "id": "4iofs0tYz3fL",
        "outputId": "f9e6e70b-cda3-4ce0-88e1-f1a2702adbe6"
      },
      "outputs": [
        {
          "name": "stdout",
          "output_type": "stream",
          "text": [
            "Pesquise o carro da loja: Astra\n",
            "Não\n"
          ]
        }
      ],
      "source": [
        "# Teste Lógico\n",
        "\n",
        "# Existe o valor TAL dentro da LISTA\n",
        "car = input('Pesquise o carro da loja: ')\n",
        "if(car in carros):\n",
        "  print('Tem')\n",
        "else:\n",
        "  print('Não')"
      ]
    },
    {
      "cell_type": "code",
      "execution_count": null,
      "metadata": {
        "colab": {
          "base_uri": "https://localhost:8080/"
        },
        "id": "qrrMZ9nm0l57",
        "outputId": "b012c566-5ef7-41c5-9f7e-fcf4b1292c51"
      },
      "outputs": [
        {
          "name": "stdout",
          "output_type": "stream",
          "text": [
            "[15, 20, 98, -59, 275, 159, 2]\n",
            "7\n",
            "[-59, 2, 15, 20, 98, 159, 275]\n",
            "[275, 159, 98, 20, 15, 2, -59]\n",
            "275\n",
            "-59\n",
            "7\n",
            "510\n",
            "[-59, 2, 15, 20, 98, 159, 275]\n",
            "[275, 159, 98, 20, 15, 2, -59]\n"
          ]
        }
      ],
      "source": [
        "# Funções\n",
        "# Ordenar\n",
        "valores = [15, 20, 98, -59, 275, 159, 2]\n",
        "print(valores)\n",
        "print(len(valores))\n",
        "valores.sort() # Altera a lista\n",
        "print(valores)\n",
        "valores.sort(reverse=True) # Decrescente\n",
        "print(valores)\n",
        "\n",
        "# Máximo\n",
        "print(max(valores))\n",
        "\n",
        "# Mínimo\n",
        "print(min(valores))\n",
        "\n",
        "# Tamanho\n",
        "print(len(valores))\n",
        "\n",
        "# Soma\n",
        "print(sum(valores))\n",
        "\n",
        "# Ordenar sem alterar a lista\n",
        "print(sorted(valores)) # Não altera a lista\n",
        "print(valores)"
      ]
    },
    {
      "cell_type": "code",
      "execution_count": null,
      "metadata": {
        "colab": {
          "base_uri": "https://localhost:8080/"
        },
        "id": "xpXU_Sle1Ng7",
        "outputId": "85b5666e-15a2-497d-f0b2-ab200639711e"
      },
      "outputs": [
        {
          "name": "stdout",
          "output_type": "stream",
          "text": [
            "['Kenji', 'Mateus', 'Akio', 'Emerson', 'Davi', 'Sayumi', 'Lorhana', 'Erick', 'Igor']\n",
            "['Akio', 'Davi', 'Emerson', 'Erick', 'Igor', 'Kenji', 'Lorhana', 'Mateus', 'Sayumi']\n",
            "========================================\n",
            "PRIMEIRA FORMA\n",
            "Aluno Akio na posição 0\n",
            "Aluno Davi na posição 1\n",
            "Aluno Emerson na posição 2\n",
            "Aluno Erick na posição 3\n",
            "Aluno Igor na posição 4\n",
            "Aluno Kenji na posição 5\n",
            "Aluno Lorhana na posição 6\n",
            "Aluno Mateus na posição 7\n",
            "Aluno Sayumi na posição 8\n",
            "========================================\n",
            "SEGUNDA FORMA\n",
            "Aluno Akio\n",
            "Aluno Davi\n",
            "Aluno Emerson\n",
            "Aluno Erick\n",
            "Aluno Igor\n",
            "Aluno Kenji\n",
            "Aluno Lorhana\n",
            "Aluno Mateus\n",
            "Aluno Sayumi\n",
            "========================================\n",
            "TERCEIRA FORMA\n",
            "Aluno Akio na posição 0\n",
            "Aluno Davi na posição 1\n",
            "Aluno Emerson na posição 2\n",
            "Aluno Erick na posição 3\n",
            "Aluno Igor na posição 4\n",
            "Aluno Kenji na posição 5\n",
            "Aluno Lorhana na posição 6\n",
            "Aluno Mateus na posição 7\n",
            "Aluno Sayumi na posição 8\n"
          ]
        }
      ],
      "source": [
        "# Listando itens dos vetores\n",
        "alunos = ['Kenji', 'Mateus', 'Akio', 'Emerson', 'Davi', 'Sayumi', 'Lorhana', 'Erick', 'Igor']\n",
        "print(alunos)\n",
        "alunos.sort()\n",
        "print(alunos)\n",
        "\n",
        "def linhas():\n",
        "  print('==' * 20)\n",
        "\n",
        "linhas()\n",
        "print('PRIMEIRA FORMA')\n",
        "for i in range(0, len(alunos)): # i recebe o ÍNDICE do LOOP\n",
        "  print(f'Aluno {alunos[i]} na posição {i}') # print('Aluno {alunos[i]} na posição {i}' .format(alunos[i], i))\n",
        "\n",
        "linhas()\n",
        "print('SEGUNDA FORMA')\n",
        "for nome in alunos: # nome recebe o VALOR da LISTA\n",
        "  print(f'Aluno {nome}')\n",
        "\n",
        "linhas()\n",
        "print('TERCEIRA FORMA')\n",
        "for i, nome in enumerate(alunos): # enumerate gera DOIS VALORES -> ÍNDICE e VALOR DA LISTA\n",
        "  print(f'Aluno {nome} na posição {i}') # print('Aluno {alunos[i]} na posição {i}' .format(alunos[i], i))"
      ]
    },
    {
      "cell_type": "code",
      "execution_count": null,
      "metadata": {
        "colab": {
          "base_uri": "https://localhost:8080/"
        },
        "id": "refyrB2C2VM7",
        "outputId": "6d491664-be03-45f7-8406-445fb365b95b"
      },
      "outputs": [
        {
          "name": "stdout",
          "output_type": "stream",
          "text": [
            "Digite um número: 50\n",
            "Digite um número: 3\n",
            "Digite um número: 12\n",
            "Digite um número: 21\n",
            "Digite um número: 7\n",
            "[50, 3, 12, 21, 7]\n",
            " Maior número 50\n",
            " Menor número 3\n",
            " Somatório 93\n",
            " Quantidade de itens da lista 5\n",
            "[3, 7, 12, 21, 50]\n"
          ]
        }
      ],
      "source": [
        "# Criar uma lista de números gerada pelo usuário que receba 5 números\n",
        "\n",
        "def inputNum():\n",
        "  return int(input('Digite um número: ')) # Pede valor do usuário\n",
        "\n",
        "numUsu = [] # Lista Vazia\n",
        "for i in range(0, 5):\n",
        "  numUsu.append(inputNum())\n",
        "\n",
        "print(numUsu)\n",
        "print(f' Maior número {max(numUsu)}')\n",
        "print(f' Menor número {min(numUsu)}')\n",
        "print(f' Somatório {sum(numUsu)}' )\n",
        "print(f' Quantidade de itens da lista {len(numUsu)}'  )\n",
        "numUsu.sort()\n",
        "print(numUsu)"
      ]
    },
    {
      "cell_type": "code",
      "execution_count": null,
      "metadata": {
        "id": "oYtujfWsBJMa"
      },
      "outputs": [],
      "source": []
    }
  ],
  "metadata": {
    "colab": {
      "collapsed_sections": [],
      "name": "aula7.ipynb",
      "provenance": []
    },
    "kernelspec": {
      "display_name": "Python 3.10.5 64-bit",
      "language": "python",
      "name": "python3"
    },
    "language_info": {
      "name": "python",
      "version": "3.10.5"
    },
    "vscode": {
      "interpreter": {
        "hash": "62235d2a6b91292b3cbd049ce7a790b9656dd211fbfc8e00863c4e18f9242a69"
      }
    }
  },
  "nbformat": 4,
  "nbformat_minor": 0
}
