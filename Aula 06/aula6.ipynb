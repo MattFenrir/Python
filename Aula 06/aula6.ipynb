{
  "nbformat": 4,
  "nbformat_minor": 0,
  "metadata": {
    "colab": {
      "name": "aula6.ipynb",
      "provenance": [],
      "collapsed_sections": []
    },
    "kernelspec": {
      "name": "python3",
      "display_name": "Python 3"
    },
    "language_info": {
      "name": "python"
    }
  },
  "cells": [
    {
      "cell_type": "markdown",
      "source": [
        "#Python"
      ],
      "metadata": {
        "id": "kskipDGIemgJ"
      }
    },
    {
      "cell_type": "markdown",
      "source": [
        "##Funções"
      ],
      "metadata": {
        "id": "r1XwpZS2et3m"
      }
    },
    {
      "cell_type": "code",
      "source": [
        "# DECLARAÇÃO\n",
        "def nomeDaFuncao():\n",
        "  #Bloco de Execução\n",
        "  print(\"-----\" * 5)\n",
        "  print(\"FUNÇÃO DECLARADA\")\n",
        "  print(\"-----\" * 5)\n",
        "\n",
        "nomeDaFuncao()"
      ],
      "metadata": {
        "colab": {
          "base_uri": "https://localhost:8080/"
        },
        "id": "SABG9MJoevAL",
        "outputId": "12536045-f937-4bfe-e4c8-f1b189cb73c4"
      },
      "execution_count": null,
      "outputs": [
        {
          "output_type": "stream",
          "name": "stdout",
          "text": [
            "-------------------------\n",
            "FUNÇÃO DECLARADA\n",
            "-------------------------\n"
          ]
        }
      ]
    },
    {
      "cell_type": "code",
      "source": [
        "# Função com parametro\n",
        "def mostraTexto(txt):\n",
        "  print(txt)\n",
        "\n",
        "def mostraIdadeNome(id, nome):\n",
        "  print(\"{} tem {} anos\" .format(nome, id))\n",
        "\n",
        "mostraIdadeNome(18, \"Davi\")\n",
        "mostraTexto(\"Exibe um texto\")\n",
        "mostraTexto(\"Exibe\")\n",
        "mostraIdadeNome(25, \"Kenji\")"
      ],
      "metadata": {
        "colab": {
          "base_uri": "https://localhost:8080/"
        },
        "id": "qR63V2wXg8Tk",
        "outputId": "16ee3ead-d8d7-48b2-98e4-2eb75a74740d"
      },
      "execution_count": null,
      "outputs": [
        {
          "output_type": "stream",
          "name": "stdout",
          "text": [
            "Davi tem 18 anos\n",
            "Exibe um texto\n",
            "Exibe\n",
            "Kenji tem 25 anos\n"
          ]
        }
      ]
    },
    {
      "cell_type": "code",
      "source": [
        "# Função com retorno\n",
        "from random import randint\n",
        "\n",
        "def retornaNumeroAleatorio():\n",
        "  return randint(0, 100)\n",
        "\n",
        "segredo = retornaNumeroAleatorio()\n",
        "print(\"RETORNO:\", segredo)"
      ],
      "metadata": {
        "colab": {
          "base_uri": "https://localhost:8080/"
        },
        "id": "mzBxD1sQigmS",
        "outputId": "d9acb701-ae0b-4d93-ad68-03c278eb7873"
      },
      "execution_count": null,
      "outputs": [
        {
          "output_type": "stream",
          "name": "stdout",
          "text": [
            "RETORNO: 47\n",
            "Mateus tem 30 anos\n",
            "RETORNO None\n"
          ]
        }
      ]
    },
    {
      "cell_type": "code",
      "source": [
        "# Função com retorno e com parametro\n",
        "\n",
        "def retornaNumeroAleatorioEntre(ini, fim):\n",
        "  return randint(ini, fim)\n",
        "\n",
        "segredo = retornaNumeroAleatorioEntre(2000, 5000)\n",
        "print(\"Teste 1:\", segredo)\n",
        "segredo = retornaNumeroAleatorioEntre(2, 5)\n",
        "print(\"Teste 2:\", segredo)\n",
        "segredo = retornaNumeroAleatorioEntre(12000, 25000)\n",
        "print(\"Teste 3:\", segredo)"
      ],
      "metadata": {
        "colab": {
          "base_uri": "https://localhost:8080/"
        },
        "id": "r7DCNVsPjnRk",
        "outputId": "daa8a74e-060a-4f6c-95d2-70278bdf00e3"
      },
      "execution_count": null,
      "outputs": [
        {
          "output_type": "stream",
          "name": "stdout",
          "text": [
            "Teste 1: 4647\n",
            "Teste 2: 4\n",
            "Teste 3: 23669\n"
          ]
        }
      ]
    },
    {
      "cell_type": "code",
      "source": [
        "'''\n",
        "Ex 1. Desenvolva um menu de Escolha de uma Calculadora usando Funções\n",
        "exe.:\n",
        "  Menu Calculadora\n",
        "  1. +\n",
        "  2. -\n",
        "  3. /\n",
        "  4. x\n",
        "  R:\n",
        "'''\n",
        "def menu():\n",
        "  input(\"Menu Calculadora \\n 1. + \\n 2. - \\n 3. / \\n 4. x \\n R:\")\n",
        "\n",
        "  menu()\n"
      ],
      "metadata": {
        "colab": {
          "base_uri": "https://localhost:8080/"
        },
        "id": "eJHCiwEWmxk2",
        "outputId": "30953177-2a5a-43af-b7b3-c934ce696b08"
      },
      "execution_count": null,
      "outputs": [
        {
          "name": "stdout",
          "output_type": "stream",
          "text": [
            "Menu Calculadora \n",
            " 1. + \n",
            " 2. - \n",
            " 3. / \n",
            " 4. x \n",
            " R:1\n"
          ]
        }
      ]
    },
    {
      "cell_type": "code",
      "source": [
        "'''\n",
        "Ex 2. Desenvolva um MENU de Escolha de uma Calculadora usando Funções e exiba a escolha do usuário\n",
        "\n",
        "Exe.:\n",
        "  -----------------\n",
        "  Menu Calculadora\n",
        "  -----------------\n",
        "  1. +\n",
        "  2. -\n",
        "  3. /\n",
        "  4. x\n",
        "  5. Sair\n",
        "  R:\n",
        "\n",
        "'''\n",
        "def linhas():\n",
        "  print(\"--\" * 10)\n",
        "\n",
        "def menu():\n",
        "  linhas()\n",
        "  print(\"Menu Calculadora\")\n",
        "  linhas()\n",
        "  escolha = input(\" 1. + \\n 2. - \\n 3. / \\n 4. x \\n R: \")\n",
        "  linhas()\n",
        "  print(\"VOCÊ ESCOLHEU:\", escolha)\n",
        "  linhas()\n",
        "\n",
        "menu()"
      ],
      "metadata": {
        "colab": {
          "base_uri": "https://localhost:8080/"
        },
        "id": "WUGVZ3RInQLC",
        "outputId": "86aea516-76fe-4471-f867-303f19818b91"
      },
      "execution_count": null,
      "outputs": [
        {
          "output_type": "stream",
          "name": "stdout",
          "text": [
            "--------------------\n",
            "Menu Calculadora\n",
            "--------------------\n",
            " 1. + \n",
            " 2. - \n",
            " 3. / \n",
            " 4. x \n",
            " R: 3\n",
            "--------------------\n",
            "VOCÊ ESCOLHEU: 3\n",
            "--------------------\n"
          ]
        }
      ]
    },
    {
      "cell_type": "code",
      "source": [
        "# Faça uma calculadora com (+ - * /) e repita enquanto o usuário quiser\n",
        "\n",
        "conta = 1\n",
        "\n",
        "def linhas():\n",
        "  print(\"--\" * 10)\n",
        "\n",
        "def menu():\n",
        "  linhas()\n",
        "  print(\"Menu Calculadora\")\n",
        "  linhas()\n",
        "  escolha = int(input(\" 1. + \\n 2. - \\n 3. / \\n 4. x \\n R: \"))\n",
        "  return escolha\n",
        "\n",
        "def inputUsuario():\n",
        "  continuar = False\n",
        "  while(not continuar):\n",
        "    val = input(\"Digite um valor: \")\n",
        "    if(val.isnumeric()):\n",
        "      continuar = True\n",
        "  return float(val)\n",
        "\n",
        "def soma():\n",
        "  num1 = inputUsuario()\n",
        "  num2 = inputUsuario()\n",
        "  print(\"SOMA:\", num1 + num2)\n",
        "\n",
        "def sub():\n",
        "  num1 = inputUsuario()\n",
        "  num2 = inputUsuario()\n",
        "  print(\"SUB:\", num1 - num2)\n",
        "\n",
        "def div():\n",
        "  num1 = inputUsuario()\n",
        "  num2 = inputUsuario()\n",
        "  print(\"DIV:\", num1 / num2)\n",
        "\n",
        "def mult():\n",
        "  num1 = inputUsuario()\n",
        "  num2 = inputUsuario()\n",
        "  print(\"MULT:\", num1 * num2)\n",
        "\n",
        "while(conta < 5):\n",
        "  conta = menu()\n",
        "  if(conta == 1):\n",
        "    soma()\n",
        "  elif(conta == 2):\n",
        "    sub()\n",
        "  elif(conta == 3):\n",
        "    div()\n",
        "  elif(conta == 4):\n",
        "    mult()\n",
        "  else:\n",
        "    linhas()\n",
        "    print(\"FLW\")\n",
        "    linhas()"
      ],
      "metadata": {
        "colab": {
          "base_uri": "https://localhost:8080/"
        },
        "id": "YfWZ4puPpRm0",
        "outputId": "389b51c9-9fc3-4d2b-891f-8cb72a088bc3"
      },
      "execution_count": null,
      "outputs": [
        {
          "output_type": "stream",
          "name": "stdout",
          "text": [
            "--------------------\n",
            "Menu Calculadora\n",
            "--------------------\n",
            " 1. + \n",
            " 2. - \n",
            " 3. / \n",
            " 4. x \n",
            " R: 5\n",
            "--------------------\n",
            "FLW\n",
            "--------------------\n"
          ]
        }
      ]
    },
    {
      "cell_type": "code",
      "source": [
        ""
      ],
      "metadata": {
        "id": "CSwBsUc-q2yL"
      },
      "execution_count": null,
      "outputs": []
    }
  ]
}