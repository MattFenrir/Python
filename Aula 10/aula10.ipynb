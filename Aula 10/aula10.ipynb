{
 "cells": [
  {
   "cell_type": "code",
   "execution_count": 2,
   "metadata": {},
   "outputs": [
    {
     "name": "stdout",
     "output_type": "stream",
     "text": [
      "150\n",
      "30.0\n"
     ]
    }
   ],
   "source": [
    "# Leia 5 valores, mostre a média dos números e a soma\n",
    "\n",
    "numeros = []\n",
    "\n",
    "# numeros.inser]t[indice] = valor\n",
    "# numeros.append[valor] -> Aidicona ao final da lista\n",
    "\n",
    "for i in range(5):\n",
    "    numeros.append(int(input('Digite um valor')))\n",
    "    #print(numeros[i]) -> Exibe os valores um em cima do outro\n",
    "#print(numeros) -> Exibe os valores dentro de uma lista\n",
    "\n",
    "soma = 0\n",
    "for numero in numeros:\n",
    "    soma += numero\n",
    "\n",
    "media = soma / len(numeros)   \n",
    "\n",
    "print(soma)\n",
    "print(media) \n"
   ]
  },
  {
   "cell_type": "code",
   "execution_count": 2,
   "metadata": {},
   "outputs": [
    {
     "name": "stdout",
     "output_type": "stream",
     "text": [
      "150\n",
      "30.0\n"
     ]
    }
   ],
   "source": [
    "# Exercício anterior com WHILE\n",
    "\n",
    "numeros = []\n",
    "\n",
    "# numeros.inser]t[indice] = valor\n",
    "# numeros.append[valor] -> Aidicona ao final da lista\n",
    "\n",
    "contador = 0\n",
    "while(contador <5):\n",
    "    numeros.append(int(input('Digite um valor')))\n",
    "    contador += 1\n",
    "\n",
    "soma = 0\n",
    "contador = 0\n",
    "while(contador < len(numeros)):\n",
    "    soma += numeros[contador]\n",
    "    contador += 1\n",
    "\n",
    "media = soma / len(numeros)   \n",
    "\n",
    "print(soma)\n",
    "print(media) "
   ]
  },
  {
   "cell_type": "code",
   "execution_count": 3,
   "metadata": {},
   "outputs": [
    {
     "name": "stdout",
     "output_type": "stream",
     "text": [
      "Números são iguais\n"
     ]
    }
   ],
   "source": [
    "# Verifique se dois números digitados são iguais\n",
    "\n",
    "# if(x == y)\n",
    "\n",
    "x = int(input('Digite um número: '))\n",
    "y = int(input('Digite um número: '))\n",
    "\n",
    "if(x == y):\n",
    "    print('Números são iguais')\n",
    "else:\n",
    "    print('Números são diferentes')"
   ]
  },
  {
   "cell_type": "code",
   "execution_count": 3,
   "metadata": {},
   "outputs": [
    {
     "name": "stdout",
     "output_type": "stream",
     "text": [
      "São iguais\n"
     ]
    }
   ],
   "source": [
    "numeros = []\n",
    "\n",
    "for i in range(2):\n",
    "    numeros.append(int(input('Digite um número')))\n",
    "\n",
    "if(numeros[0] == numeros[1]):\n",
    "    print('São iguais')\n",
    "else:\n",
    "    print('São diferentes')"
   ]
  },
  {
   "cell_type": "code",
   "execution_count": 4,
   "metadata": {},
   "outputs": [
    {
     "name": "stdout",
     "output_type": "stream",
     "text": [
      "\n",
      "\n",
      "\n",
      "\n",
      "\n",
      "\n",
      "\n",
      "\n",
      "\n",
      "\n",
      "\n",
      "\n",
      "\n",
      "\n",
      "Farinha  Farinha\n",
      "Arroz  Arroz\n",
      "Feijão  Feijão\n",
      "Farofa  Farofa\n",
      "Ervilha  Ervilha\n",
      "Milho  Milho\n",
      "Biscoito  Biscoito\n"
     ]
    }
   ],
   "source": [
    "# Liste todos os itens da prateleira do mercado em linhas diferentes\n",
    "# prateleira ['Farinha', 'Arroz', 'Feijão', 'Farofa', 'Ervilha', 'Milho', 'Biscoito']\n",
    "\n",
    "prateleira = ('Farinha', 'Arroz', 'Feijão', 'Farofa', 'Ervilha', 'Milho', 'Biscoito')\n",
    "\n",
    "for item in prateleira: # item recebe valor da lista\n",
    "    #print(item)\n",
    "    print('')\n",
    "\n",
    "for i in range(len(prateleira)): # i recebe o índice\n",
    "    #print(prateleira[i])\n",
    "    print('')\n",
    "\n",
    "for i, item in enumerate(prateleira):\n",
    "    print(prateleira[i], '', item)\n",
    "\n",
    "contador = 0\n",
    "while(contador < len(prateleira)):\n",
    "    #print(prateleira[contador])\n",
    "    contador += 1"
   ]
  },
  {
   "cell_type": "code",
   "execution_count": 7,
   "metadata": {},
   "outputs": [
    {
     "name": "stdout",
     "output_type": "stream",
     "text": [
      "Tem\n"
     ]
    }
   ],
   "source": [
    "# Pesquisar um item na prateleira do exercício anterioe e dizer se tem ou não\n",
    "\n",
    "busca = input('Digite o nome de um produto: ')\n",
    "if(busca.capitalize() in prateleira):\n",
    "    print('Tem')\n",
    "else:\n",
    "    print('Não tem')"
   ]
  },
  {
   "cell_type": "code",
   "execution_count": 11,
   "metadata": {},
   "outputs": [
    {
     "name": "stdout",
     "output_type": "stream",
     "text": [
      "Tem o produto\n"
     ]
    }
   ],
   "source": [
    "busca = input('Digite o nome do produto: ')\n",
    "achou =  False\n",
    "for item in prateleira:\n",
    "    if(busca.lower() == item.lower()):\n",
    "        achou = True\n",
    "\n",
    "if(achou):\n",
    "    print('Tem o produto')\n",
    "else:\n",
    "    print('Não tem')"
   ]
  }
 ],
 "metadata": {
  "kernelspec": {
   "display_name": "Python 3.10.5 64-bit",
   "language": "python",
   "name": "python3"
  },
  "language_info": {
   "codemirror_mode": {
    "name": "ipython",
    "version": 3
   },
   "file_extension": ".py",
   "mimetype": "text/x-python",
   "name": "python",
   "nbconvert_exporter": "python",
   "pygments_lexer": "ipython3",
   "version": "3.10.5"
  },
  "orig_nbformat": 4,
  "vscode": {
   "interpreter": {
    "hash": "62235d2a6b91292b3cbd049ce7a790b9656dd211fbfc8e00863c4e18f9242a69"
   }
  }
 },
 "nbformat": 4,
 "nbformat_minor": 2
}
