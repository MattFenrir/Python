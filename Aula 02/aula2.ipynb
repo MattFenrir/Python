{
  "nbformat": 4,
  "nbformat_minor": 0,
  "metadata": {
    "colab": {
      "name": "aula2.ipynb",
      "provenance": [],
      "collapsed_sections": []
    },
    "kernelspec": {
      "name": "python3",
      "display_name": "Python 3"
    },
    "language_info": {
      "name": "python"
    }
  },
  "cells": [
    {
      "cell_type": "code",
      "execution_count": null,
      "metadata": {
        "colab": {
          "base_uri": "https://localhost:8080/"
        },
        "id": "fbKKNUrqtR9e",
        "outputId": "d083eaad-b392-455b-cc33-e01b98814c78"
      },
      "outputs": [
        {
          "output_type": "stream",
          "name": "stdout",
          "text": [
            "Digite o seu sexo (M / F) m\n",
            "Sexo Masculino\n"
          ]
        }
      ],
      "source": [
        "# Faça um programa que verifique (usando if e else) se uma letra digitada é \"F\" ou \"M\".\n",
        "# Conforme letra escrever: F - Feminino, M - Masculino, Sexo inválido.\n",
        "\n",
        "sexo = input('Digite o seu sexo (M / F) ').upper() #Caps Lock\n",
        "if(sexo == 'M'):\n",
        "    print('Sexo Masculino')\n",
        "elif(sexo == 'F'):\n",
        "    print('Sexo Feminino')\n",
        "else:\n",
        "    print('Valor inválido')\n"
      ]
    },
    {
      "cell_type": "code",
      "source": [
        "# Faça um programa que verifique (usando if e else) se uma letra digitando é vogal ou consoante.\n",
        "\n",
        "letra = input('Digite uma letra ').lower() #Letra minúscula\n",
        "\n",
        "if(letra == 'a' or letra == 'e' or letra == 'i' or letra == 'o' or letra == 'u'):\n",
        "  print('É uma vogal')\n",
        "else:\n",
        "  print('É uma consoante')\n",
        "\n"
      ],
      "metadata": {
        "id": "WadaD4sNtw-f",
        "colab": {
          "base_uri": "https://localhost:8080/"
        },
        "outputId": "17e8c7a8-aaa9-40c5-d217-79f9dbef4c35"
      },
      "execution_count": null,
      "outputs": [
        {
          "output_type": "stream",
          "name": "stdout",
          "text": [
            "Digite uma letra a\n",
            "É uma vogal\n"
          ]
        }
      ]
    },
    {
      "cell_type": "code",
      "source": [
        "# Faça um programa que veifique (usando if e else) se uma letra digitada é\n",
        "# vogal ou consoante e se foi uma letra inválida.\n",
        "\n",
        "letra = input('Digite uma letra: ').lower() # a = A / a\n",
        "\n",
        "# Tamanho da variável é len(variável)\n",
        "\n",
        "if(len(letra) == 1): # Se a quantidade de letras for igual a 1 faça\n",
        "  if(letra.isalpha()): ## é um valor alfabético? = true / == false\n",
        "    print('É letra')\n",
        "    if(letra == 'a' or letra == 'e' or letra == 'i' or letra == 'o' or letra == 'u'):\n",
        "      print('É uma vogal')\n",
        "    else:\n",
        "      print('É uma consoante')\n",
        "  else:\n",
        "    print('Não é letra')\n",
        "else: #Se for diferente de 1 faça\n",
        "  print('Não é um valor válido')"
      ],
      "metadata": {
        "colab": {
          "base_uri": "https://localhost:8080/"
        },
        "id": "t-nX01cey-vu",
        "outputId": "39796355-e302-43b1-9fc9-0c187199470b"
      },
      "execution_count": 14,
      "outputs": [
        {
          "output_type": "stream",
          "name": "stdout",
          "text": [
            "Digite uma letra: a\n",
            "É letra\n",
            "É uma vogal\n"
          ]
        }
      ]
    },
    {
      "cell_type": "code",
      "source": [
        "# Leia um número e verificar se é um número.\n",
        "# Após verificar, exibir seu antecessor, seu sucessor e se é par ou ímpar.\n",
        "\n",
        "numero = input('Digite um número: ')\n",
        "if(numero.isnumeric()):\n",
        "  numero = int(numero)\n",
        "  if(numero % 2 == 0): # O resto da divisão é igual a 0 ?\n",
        "    print('Par')\n",
        "  else:\n",
        "    print('Ímpar')\n",
        "    print('Seu antecessor é:', numero - 1)\n",
        "    print('Seu sucessor é:', numero + 1)\n",
        "else:\n",
        "  print('Digite um valor válido')"
      ],
      "metadata": {
        "id": "blcLrC4D0xcG",
        "colab": {
          "base_uri": "https://localhost:8080/"
        },
        "outputId": "3f339405-3e0e-4b01-a73b-ee8bf1fc132c"
      },
      "execution_count": 18,
      "outputs": [
        {
          "output_type": "stream",
          "name": "stdout",
          "text": [
            "Digite um número: 13\n",
            "Ímpar\n",
            "Seu antecessor é: 12\n",
            "Seu sucessor é: 14\n"
          ]
        }
      ]
    },
    {
      "cell_type": "code",
      "source": [
        "# Faça um programa que pergunte em que turno você estuda.\n",
        "# Peça para digitar M-matutino ou V-vespertino ou N-noturno.\n",
        "# Imprima a mensagem \"Bom dia!\", \"Boa tarde!\", \"Boa noite!\" ou \"Valor inválido\", conforme o caso.\n",
        "\n",
        "turno = input('Digite o seu turno: M (Matutino), V (Vespertino) ou N (Noturno) -> ').upper()\n",
        "\n",
        "# Quantidade de letras\n",
        "if(len(turno) == 1):\n",
        "    #Se tiver só um caracter eu faço\n",
        "    if(turno == 'M' or turno == 'V' or turno == 'N'):\n",
        "      if(turno == 'M'):\n",
        "        print('Bom dia!')\n",
        "      elif(turno == 'V'):\n",
        "        print('Boa tarde!')\n",
        "      else: # elif(turno == 'N'):\n",
        "        print('Boa noite!')\n",
        "    else:\n",
        "      print('Digite um valor válido')\n",
        "else:\n",
        "    print('Digite um valor válido')\n"
      ],
      "metadata": {
        "colab": {
          "base_uri": "https://localhost:8080/"
        },
        "id": "s5QCA3Ih4ecO",
        "outputId": "65bd577f-7333-4b79-8833-003b54d09585"
      },
      "execution_count": 24,
      "outputs": [
        {
          "output_type": "stream",
          "name": "stdout",
          "text": [
            "Digite o seu turno: M (Matutino), V (Vespertino) ou N (Noturno) -> N\n",
            "Boa noite!\n"
          ]
        }
      ]
    },
    {
      "cell_type": "code",
      "source": [
        "''' \n",
        "As organizações CSM resolveram dar um aumento de salário aos seus colaboradores e lhe contrataram para \n",
        "desenvolver o programa que calculará os reajustes.\n",
        "\n",
        "a. Faça um programa que recebe o salário de um colaborador e o reajuste segundo o seguinte critério, baseado no salário atual;\n",
        "b. Salários até R$ 280,00 (incluindo): aumento de 20%;\n",
        "c. Salários entre R$ 280,00 e R$700,00: aumento de 15%;\n",
        "d. Salários entre R$ 700,00 e R$ 1500,00: aumento de 10%;\n",
        "e. Salários de R$ 1500,00 em diante: aumento de 5%\n",
        "Após o aumento ser realizado; informe na tela;\n",
        "\n",
        "a. O salário antes do reajuste;\n",
        "b. O percentual de aumento aplicado;\n",
        "c. O valor do aumento;\n",
        "d. O novo salário, após o aumento. \n",
        "'''\n",
        "\n",
        "salario = float(input('Digite o seu salário: '))\n",
        "percentual = 0\n",
        "salarioNovo = 0\n",
        "aumento = 0\n",
        "\n",
        "if(salario <= 280):\n",
        "  percentual = 20\n",
        "elif(salario < 700):\n",
        "  percentual = 15\n",
        "elif(salario < 1500):\n",
        "  percentual = 10\n",
        "else:\n",
        "  percentual = 5\n",
        "\n",
        "salarioNovo = salario * (percentual / 100 + 1)\n",
        "aumento = salarioNovo - salario\n",
        "print('a. Salário: R$', round(salario, 2))\n",
        "print('b. Percentual de aumento:', percentual, '%')\n",
        "print('c. Aumento: R$', round(aumento, 2))\n",
        "print('d. Novo Salário: R$', round(salarioNovo, 2))\n",
        "\n",
        "# 20 -> 1.20 -> 20 / 100 = 0.2 + 1 -> 1.2\n",
        "# 15 -> 1.15 -> 15 / 100 + 1\n",
        "# 50 -> 1.50 -> 50 / 100 = 0.5 + 1\n",
        "# 100 -> 1 + 1 -> 100 / 100 = 1 + 1"
      ],
      "metadata": {
        "colab": {
          "base_uri": "https://localhost:8080/"
        },
        "id": "hgXInUwb9kcF",
        "outputId": "15a4e005-431e-4947-cbae-a67cca92ac00"
      },
      "execution_count": 30,
      "outputs": [
        {
          "output_type": "stream",
          "name": "stdout",
          "text": [
            "Digite o seu salário: 270\n",
            "a. Salário: R$ 270.0\n",
            "b. Percentual de aumento: 20 %\n",
            "c. Aumento: R$ 54.0\n",
            "d. Novo Salário: R$ 324.0\n"
          ]
        }
      ]
    },
    {
      "cell_type": "code",
      "source": [
        ""
      ],
      "metadata": {
        "id": "aB1CVxEiCfw1"
      },
      "execution_count": null,
      "outputs": []
    }
  ]
}