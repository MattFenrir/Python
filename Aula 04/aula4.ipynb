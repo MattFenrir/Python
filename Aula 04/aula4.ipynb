{
  "nbformat": 4,
  "nbformat_minor": 0,
  "metadata": {
    "colab": {
      "name": "aula4.ipynb",
      "provenance": [],
      "collapsed_sections": []
    },
    "kernelspec": {
      "name": "python3",
      "display_name": "Python 3"
    },
    "language_info": {
      "name": "python"
    }
  },
  "cells": [
    {
      "cell_type": "markdown",
      "source": [
        "# While\n",
        "### Laço de Repetição -> Estrutura de Repetição -> Loop -> Malha de Repetição"
      ],
      "metadata": {
        "id": "2ZbaOtdzlSbN"
      }
    },
    {
      "cell_type": "markdown",
      "source": [
        "## while(condição):\n",
        "#Faça"
      ],
      "metadata": {
        "id": "XDWVc6HhlhdQ"
      }
    },
    {
      "cell_type": "code",
      "execution_count": null,
      "metadata": {
        "colab": {
          "base_uri": "https://localhost:8080/"
        },
        "id": "1EaOFUASlHne",
        "outputId": "50e6f2c9-ad2a-4121-b77a-6d2975beb44f"
      },
      "outputs": [
        {
          "output_type": "stream",
          "name": "stdout",
          "text": [
            "Repetição\n",
            "Repetição\n",
            "Repetição\n",
            "Repetição\n",
            "Repetição\n",
            "Repetição\n",
            "Repetição\n",
            "Repetição\n",
            "Repetição\n",
            "Repetição\n"
          ]
        }
      ],
      "source": [
        "#for variavel  in range(10):\n",
        "\n",
        "# while(testeLogico): -> contador <= Numero // variavel -> True\n",
        "\n",
        "contador = 0\n",
        "while(contador < 10):\n",
        "  print(\"Repetição\")\n",
        "  contador += 1"
      ]
    },
    {
      "cell_type": "code",
      "source": [
        "continuar = True\n",
        "while(continuar):\n",
        "  menu = int(input(\"**** MENU **** \\n 1 - Continuar \\n 2 - Sair \\n R \"))\n",
        "  if(menu == 2):\n",
        "    continuar = False"
      ],
      "metadata": {
        "colab": {
          "base_uri": "https://localhost:8080/"
        },
        "id": "ee-9uiwSmLIw",
        "outputId": "6b6dbff3-4417-4aa5-899e-18e62b5447db"
      },
      "execution_count": null,
      "outputs": [
        {
          "name": "stdout",
          "output_type": "stream",
          "text": [
            "**** MENU **** \n",
            " 1 - Continuar \n",
            " 2 - Sair \n",
            " R 1\n",
            "**** MENU **** \n",
            " 1 - Continuar \n",
            " 2 - Sair \n",
            " R 2\n"
          ]
        }
      ]
    },
    {
      "cell_type": "code",
      "source": [
        "# Faça um programa que peça uma nota, entre zero e dez. Mostre uma mensagem caso o valor seja inválido\n",
        "# e continue pedindo até que o usuário informe um valor válido.\n",
        "\n",
        "nota = True\n",
        "num = -1\n",
        "while(num < 0 or num > 10):\n",
        "  num = int(input('Digite um número: '))"
      ],
      "metadata": {
        "colab": {
          "base_uri": "https://localhost:8080/"
        },
        "id": "G8ghKtt1nMU4",
        "outputId": "f1615421-9730-4d98-d903-c7a60f357a50"
      },
      "execution_count": null,
      "outputs": [
        {
          "name": "stdout",
          "output_type": "stream",
          "text": [
            "Digite um número: 13\n",
            "Digite um número: 5\n"
          ]
        }
      ]
    },
    {
      "cell_type": "code",
      "source": [
        "# Faça um programa que leia um nome de usuário e a sua senha e não aceite a senha igual \n",
        "# mostrando uma mensagem de erro e voltando a pedir as informações.\n",
        "\n",
        "continuar = True\n",
        "while(continuar):\n",
        "  usuario = input('Digite seu USUARIO: ')\n",
        "  senha = input('Digite a sua SENHA: ')\n",
        "  if(usuario != senha):\n",
        "    continuar = False\n",
        "  else:\n",
        "    print('Digite valores diferentes')"
      ],
      "metadata": {
        "id": "hAKiQ4gWqs9B"
      },
      "execution_count": null,
      "outputs": []
    },
    {
      "cell_type": "code",
      "source": [
        "# Desenvolva uma calculadora com menu para selecionar o tipo de\n",
        "# conta adição, subtração, multiplicação e divisão\n",
        "\n",
        "ad = 0\n",
        "sub = 0\n",
        "mul = 0\n",
        "div = 0\n",
        "\n",
        "continuar = True\n",
        "\n",
        "while(continuar):\n",
        "  menu = input('**** CALCULADORA **** \\n 1 - Adição \\n 2 - Subtração \\n 3 - Multiplicação \\n 4 - Divisão \\n Digite outro valor para sair \\n')\n",
        "  if(menu.isnumeric()):\n",
        "    menu = int(menu)\n",
        "    if(menu > 0 and menu < 5):\n",
        "      num1 = int(input('Digite o número: '))\n",
        "      num2 = int(input('Digite outro número: '))\n",
        "      if(menu == 1):\n",
        "        print(num1 + num2)\n",
        "      elif(menu == 2):\n",
        "        print(num1 - num2)\n",
        "      elif(menu == 3):\n",
        "        print(num1 * num2)\n",
        "      elif(menu == 4):\n",
        "        print(num1 / num2)\n",
        "    else:\n",
        "      continuar = False\n",
        "  else:\n",
        "    continuar = False"
      ],
      "metadata": {
        "colab": {
          "base_uri": "https://localhost:8080/"
        },
        "id": "uYwDl-kltZsc",
        "outputId": "08054d2d-25fd-4ab8-bb05-1ed6a9012e23"
      },
      "execution_count": null,
      "outputs": [
        {
          "name": "stdout",
          "output_type": "stream",
          "text": [
            "**** CALCULADORA **** \n",
            " 1 - Adição \n",
            " 2 - Subtração \n",
            " 3 - Multiplicação \n",
            " 4 - Divisão \n",
            " Digite outro valor para sair \n",
            "1\n",
            "Digite o número: 10\n",
            "Digite outro número: 15\n",
            "25\n",
            "**** CALCULADORA **** \n",
            " 1 - Adição \n",
            " 2 - Subtração \n",
            " 3 - Multiplicação \n",
            " 4 - Divisão \n",
            " Digite outro valor para sair \n",
            "5\n"
          ]
        }
      ]
    },
    {
      "cell_type": "code",
      "source": [
        "# Faça um programa que leia 5 números e informe a soma e a média dos números.\n",
        "soma = 0\n",
        "contador = 0\n",
        "while(contador < 5):\n",
        "  num = int(input('Digite um número: '))\n",
        "  soma += num\n",
        "  contador += 1 # contador = contador + 1\n",
        "print('Total', soma)\n",
        "print('Média', soma / contador)"
      ],
      "metadata": {
        "colab": {
          "base_uri": "https://localhost:8080/"
        },
        "id": "x-gmLx_zvsHn",
        "outputId": "a79ca2b9-0904-427f-de82-e2056498b516"
      },
      "execution_count": null,
      "outputs": [
        {
          "output_type": "stream",
          "name": "stdout",
          "text": [
            "Digite um número: 10\n",
            "Digite um número: 10\n",
            "Digite um número: 10\n",
            "Digite um número: 10\n",
            "Digite um número: 10\n",
            "Total 50\n",
            "Média 10.0\n"
          ]
        }
      ]
    },
    {
      "cell_type": "code",
      "source": [
        "# Faça um jogo da sorte que guarde um número (0 - 99) e peça para o usuário\n",
        "# tentar acertar o número, exiba se errou para mais ou menos\n",
        "\n",
        "from random import randint\n",
        "\n",
        "segredo = randint(0, 99)\n",
        "continuar = True\n",
        "\n",
        "while(continuar):\n",
        "  chute = int(input('Digite um valor entre 0 e 99\\n'))\n",
        "  if(chute == segredo):\n",
        "    print('Você acertou, Miseravi!', segredo)\n",
        "    print('Você usou {} chances!'.format(contador))\n",
        "    continuar = False\n",
        "  elif(chute > segredo):\n",
        "    print('Menos')\n",
        "  else:\n",
        "    print('Mais')\n",
        "  contador += 1"
      ],
      "metadata": {
        "colab": {
          "base_uri": "https://localhost:8080/"
        },
        "id": "TliP-KBzxQ6Y",
        "outputId": "a28b4da7-10f0-4d1a-c4f5-399a5fde356a"
      },
      "execution_count": null,
      "outputs": [
        {
          "output_type": "stream",
          "name": "stdout",
          "text": [
            "Digite um valor entre 0 e 99\n",
            "50\n",
            "Menos\n",
            "Digite um valor entre 0 e 99\n",
            "45\n",
            "Menos\n",
            "Digite um valor entre 0 e 99\n",
            "30\n",
            "Mais\n",
            "Digite um valor entre 0 e 99\n",
            "38\n",
            "Mais\n",
            "Digite um valor entre 0 e 99\n",
            "42\n",
            "Você acertou, Miseravi! 42\n",
            "Você usou 9 chances!\n"
          ]
        }
      ]
    },
    {
      "cell_type": "code",
      "source": [
        "from random import randint\n",
        "\n",
        "#array\n",
        "lista = ['nome', 'edu', 'flu', 'huas0', 'asd']\n",
        "print(lista[randint(0, 4)])"
      ],
      "metadata": {
        "id": "wsMRnAi9zAxx"
      },
      "execution_count": null,
      "outputs": []
    }
  ]
}